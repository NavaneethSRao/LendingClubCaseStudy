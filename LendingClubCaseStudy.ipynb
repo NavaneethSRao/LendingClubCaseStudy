{
 "cells": [
  {
   "cell_type": "markdown",
   "id": "4616a3eb",
   "metadata": {},
   "source": [
    "# Lending Club Case Study"
   ]
  },
  {
   "cell_type": "code",
   "execution_count": 940,
   "id": "e6c6747a",
   "metadata": {},
   "outputs": [],
   "source": [
    "#Import the necessary libraries\n",
    "import numpy as np\n",
    "import pandas as pd\n",
    "import matplotlib.pyplot as plt\n",
    "import seaborn as sns\n",
    "\n",
    "import warnings\n",
    "warnings.filterwarnings('ignore')"
   ]
  },
  {
   "cell_type": "code",
   "execution_count": 941,
   "id": "3360af2a",
   "metadata": {},
   "outputs": [],
   "source": [
    "#Read the data from the CSV file\n",
    "loan_data = pd.read_csv(\"loan.csv\")"
   ]
  },
  {
   "cell_type": "code",
   "execution_count": 942,
   "id": "8e605943",
   "metadata": {},
   "outputs": [
    {
     "name": "stdout",
     "output_type": "stream",
     "text": [
      "(39717, 111)\n",
      "<class 'pandas.core.frame.DataFrame'>\n",
      "RangeIndex: 39717 entries, 0 to 39716\n",
      "Columns: 111 entries, id to total_il_high_credit_limit\n",
      "dtypes: float64(74), int64(13), object(24)\n",
      "memory usage: 33.6+ MB\n",
      "None\n",
      "id                              int64\n",
      "member_id                       int64\n",
      "loan_amnt                       int64\n",
      "funded_amnt                     int64\n",
      "funded_amnt_inv               float64\n",
      "                               ...   \n",
      "tax_liens                     float64\n",
      "tot_hi_cred_lim               float64\n",
      "total_bal_ex_mort             float64\n",
      "total_bc_limit                float64\n",
      "total_il_high_credit_limit    float64\n",
      "Length: 111, dtype: object\n"
     ]
    }
   ],
   "source": [
    "#See the shape, info and data type of loan data\n",
    "print(loan_data.shape)\n",
    "print(loan_data.info())\n",
    "print(loan_data.dtypes)"
   ]
  },
  {
   "cell_type": "markdown",
   "id": "2b1885ba",
   "metadata": {},
   "source": [
    "### Observations:\n",
    "1. There are totally 111 columns in the dataset\n",
    "2. The dataset is huge with a memory of 33.6 + MB\n",
    "3. The datatypes have mixed values"
   ]
  },
  {
   "cell_type": "markdown",
   "id": "2de1a86d",
   "metadata": {},
   "source": [
    "#### There are totally 111 columns which is a lot to analyze. Let's see if all that data makes sense to our analysis."
   ]
  },
  {
   "cell_type": "code",
   "execution_count": 943,
   "id": "27cbd593",
   "metadata": {},
   "outputs": [
    {
     "data": {
      "text/html": [
       "<div>\n",
       "<style scoped>\n",
       "    .dataframe tbody tr th:only-of-type {\n",
       "        vertical-align: middle;\n",
       "    }\n",
       "\n",
       "    .dataframe tbody tr th {\n",
       "        vertical-align: top;\n",
       "    }\n",
       "\n",
       "    .dataframe thead th {\n",
       "        text-align: right;\n",
       "    }\n",
       "</style>\n",
       "<table border=\"1\" class=\"dataframe\">\n",
       "  <thead>\n",
       "    <tr style=\"text-align: right;\">\n",
       "      <th></th>\n",
       "      <th>id</th>\n",
       "      <th>member_id</th>\n",
       "      <th>loan_amnt</th>\n",
       "      <th>funded_amnt</th>\n",
       "      <th>funded_amnt_inv</th>\n",
       "      <th>term</th>\n",
       "      <th>int_rate</th>\n",
       "      <th>installment</th>\n",
       "      <th>grade</th>\n",
       "      <th>sub_grade</th>\n",
       "      <th>...</th>\n",
       "      <th>num_tl_90g_dpd_24m</th>\n",
       "      <th>num_tl_op_past_12m</th>\n",
       "      <th>pct_tl_nvr_dlq</th>\n",
       "      <th>percent_bc_gt_75</th>\n",
       "      <th>pub_rec_bankruptcies</th>\n",
       "      <th>tax_liens</th>\n",
       "      <th>tot_hi_cred_lim</th>\n",
       "      <th>total_bal_ex_mort</th>\n",
       "      <th>total_bc_limit</th>\n",
       "      <th>total_il_high_credit_limit</th>\n",
       "    </tr>\n",
       "  </thead>\n",
       "  <tbody>\n",
       "    <tr>\n",
       "      <th>0</th>\n",
       "      <td>1077501</td>\n",
       "      <td>1296599</td>\n",
       "      <td>5000</td>\n",
       "      <td>5000</td>\n",
       "      <td>4975.0</td>\n",
       "      <td>36 months</td>\n",
       "      <td>10.65%</td>\n",
       "      <td>162.87</td>\n",
       "      <td>B</td>\n",
       "      <td>B2</td>\n",
       "      <td>...</td>\n",
       "      <td>NaN</td>\n",
       "      <td>NaN</td>\n",
       "      <td>NaN</td>\n",
       "      <td>NaN</td>\n",
       "      <td>0.0</td>\n",
       "      <td>0.0</td>\n",
       "      <td>NaN</td>\n",
       "      <td>NaN</td>\n",
       "      <td>NaN</td>\n",
       "      <td>NaN</td>\n",
       "    </tr>\n",
       "    <tr>\n",
       "      <th>1</th>\n",
       "      <td>1077430</td>\n",
       "      <td>1314167</td>\n",
       "      <td>2500</td>\n",
       "      <td>2500</td>\n",
       "      <td>2500.0</td>\n",
       "      <td>60 months</td>\n",
       "      <td>15.27%</td>\n",
       "      <td>59.83</td>\n",
       "      <td>C</td>\n",
       "      <td>C4</td>\n",
       "      <td>...</td>\n",
       "      <td>NaN</td>\n",
       "      <td>NaN</td>\n",
       "      <td>NaN</td>\n",
       "      <td>NaN</td>\n",
       "      <td>0.0</td>\n",
       "      <td>0.0</td>\n",
       "      <td>NaN</td>\n",
       "      <td>NaN</td>\n",
       "      <td>NaN</td>\n",
       "      <td>NaN</td>\n",
       "    </tr>\n",
       "    <tr>\n",
       "      <th>2</th>\n",
       "      <td>1077175</td>\n",
       "      <td>1313524</td>\n",
       "      <td>2400</td>\n",
       "      <td>2400</td>\n",
       "      <td>2400.0</td>\n",
       "      <td>36 months</td>\n",
       "      <td>15.96%</td>\n",
       "      <td>84.33</td>\n",
       "      <td>C</td>\n",
       "      <td>C5</td>\n",
       "      <td>...</td>\n",
       "      <td>NaN</td>\n",
       "      <td>NaN</td>\n",
       "      <td>NaN</td>\n",
       "      <td>NaN</td>\n",
       "      <td>0.0</td>\n",
       "      <td>0.0</td>\n",
       "      <td>NaN</td>\n",
       "      <td>NaN</td>\n",
       "      <td>NaN</td>\n",
       "      <td>NaN</td>\n",
       "    </tr>\n",
       "    <tr>\n",
       "      <th>3</th>\n",
       "      <td>1076863</td>\n",
       "      <td>1277178</td>\n",
       "      <td>10000</td>\n",
       "      <td>10000</td>\n",
       "      <td>10000.0</td>\n",
       "      <td>36 months</td>\n",
       "      <td>13.49%</td>\n",
       "      <td>339.31</td>\n",
       "      <td>C</td>\n",
       "      <td>C1</td>\n",
       "      <td>...</td>\n",
       "      <td>NaN</td>\n",
       "      <td>NaN</td>\n",
       "      <td>NaN</td>\n",
       "      <td>NaN</td>\n",
       "      <td>0.0</td>\n",
       "      <td>0.0</td>\n",
       "      <td>NaN</td>\n",
       "      <td>NaN</td>\n",
       "      <td>NaN</td>\n",
       "      <td>NaN</td>\n",
       "    </tr>\n",
       "    <tr>\n",
       "      <th>4</th>\n",
       "      <td>1075358</td>\n",
       "      <td>1311748</td>\n",
       "      <td>3000</td>\n",
       "      <td>3000</td>\n",
       "      <td>3000.0</td>\n",
       "      <td>60 months</td>\n",
       "      <td>12.69%</td>\n",
       "      <td>67.79</td>\n",
       "      <td>B</td>\n",
       "      <td>B5</td>\n",
       "      <td>...</td>\n",
       "      <td>NaN</td>\n",
       "      <td>NaN</td>\n",
       "      <td>NaN</td>\n",
       "      <td>NaN</td>\n",
       "      <td>0.0</td>\n",
       "      <td>0.0</td>\n",
       "      <td>NaN</td>\n",
       "      <td>NaN</td>\n",
       "      <td>NaN</td>\n",
       "      <td>NaN</td>\n",
       "    </tr>\n",
       "  </tbody>\n",
       "</table>\n",
       "<p>5 rows × 111 columns</p>\n",
       "</div>"
      ],
      "text/plain": [
       "        id  member_id  loan_amnt  funded_amnt  funded_amnt_inv        term  \\\n",
       "0  1077501    1296599       5000         5000           4975.0   36 months   \n",
       "1  1077430    1314167       2500         2500           2500.0   60 months   \n",
       "2  1077175    1313524       2400         2400           2400.0   36 months   \n",
       "3  1076863    1277178      10000        10000          10000.0   36 months   \n",
       "4  1075358    1311748       3000         3000           3000.0   60 months   \n",
       "\n",
       "  int_rate  installment grade sub_grade  ... num_tl_90g_dpd_24m  \\\n",
       "0   10.65%       162.87     B        B2  ...                NaN   \n",
       "1   15.27%        59.83     C        C4  ...                NaN   \n",
       "2   15.96%        84.33     C        C5  ...                NaN   \n",
       "3   13.49%       339.31     C        C1  ...                NaN   \n",
       "4   12.69%        67.79     B        B5  ...                NaN   \n",
       "\n",
       "  num_tl_op_past_12m pct_tl_nvr_dlq  percent_bc_gt_75 pub_rec_bankruptcies  \\\n",
       "0                NaN            NaN               NaN                  0.0   \n",
       "1                NaN            NaN               NaN                  0.0   \n",
       "2                NaN            NaN               NaN                  0.0   \n",
       "3                NaN            NaN               NaN                  0.0   \n",
       "4                NaN            NaN               NaN                  0.0   \n",
       "\n",
       "  tax_liens tot_hi_cred_lim total_bal_ex_mort total_bc_limit  \\\n",
       "0       0.0             NaN               NaN            NaN   \n",
       "1       0.0             NaN               NaN            NaN   \n",
       "2       0.0             NaN               NaN            NaN   \n",
       "3       0.0             NaN               NaN            NaN   \n",
       "4       0.0             NaN               NaN            NaN   \n",
       "\n",
       "  total_il_high_credit_limit  \n",
       "0                        NaN  \n",
       "1                        NaN  \n",
       "2                        NaN  \n",
       "3                        NaN  \n",
       "4                        NaN  \n",
       "\n",
       "[5 rows x 111 columns]"
      ]
     },
     "execution_count": 943,
     "metadata": {},
     "output_type": "execute_result"
    }
   ],
   "source": [
    "#Display the first 5 rows\n",
    "loan_data.head()"
   ]
  },
  {
   "cell_type": "markdown",
   "id": "8b0afd17",
   "metadata": {},
   "source": [
    "#### There are a lot of columns not useful for our analysis. Lets drop them."
   ]
  },
  {
   "cell_type": "markdown",
   "id": "89fb75ae",
   "metadata": {},
   "source": [
    "## 1. Data Cleaning and handling"
   ]
  },
  {
   "cell_type": "code",
   "execution_count": 944,
   "id": "025e2444",
   "metadata": {},
   "outputs": [
    {
     "name": "stdout",
     "output_type": "stream",
     "text": [
      "No. of empty rows in the data set:\n",
      "0\n",
      "No. of empty columns in the data set:\n",
      "54\n"
     ]
    }
   ],
   "source": [
    "#Check the total no. of rows and columns with NULL values\n",
    "print(\"No. of empty rows in the data set:\")\n",
    "print(loan_data.isnull().all(axis = 1).sum())\n",
    "\n",
    "print(\"No. of empty columns in the data set:\")\n",
    "print(loan_data.isnull().all(axis = 0 ).sum())"
   ]
  },
  {
   "cell_type": "markdown",
   "id": "784019fb",
   "metadata": {},
   "source": [
    "#### We see that no rows are empty but about 54 columns are empty. We can drop the same."
   ]
  },
  {
   "cell_type": "markdown",
   "id": "8651c389",
   "metadata": {},
   "source": [
    "###  a) Dropping the columns with only NULL values"
   ]
  },
  {
   "cell_type": "code",
   "execution_count": 945,
   "id": "aecf757e",
   "metadata": {},
   "outputs": [
    {
     "name": "stdout",
     "output_type": "stream",
     "text": [
      "(39717, 57)\n"
     ]
    }
   ],
   "source": [
    "loan_data.dropna(axis = 1, how = 'all', inplace = True)\n",
    "print(loan_data.shape)"
   ]
  },
  {
   "cell_type": "markdown",
   "id": "68d4b7dc",
   "metadata": {},
   "source": [
    "#### Now the number of columns have dropped from 111 to 57"
   ]
  },
  {
   "cell_type": "markdown",
   "id": "37c09290",
   "metadata": {},
   "source": [
    "### b) Dropping customer behavior variables \n",
    "-  Customer behavior variables are not available at the time of loan application, and thus they cannot help in our predictive analysis"
   ]
  },
  {
   "cell_type": "code",
   "execution_count": 946,
   "id": "5b7a92c9",
   "metadata": {},
   "outputs": [],
   "source": [
    "loan_data.drop(['delinq_2yrs','earliest_cr_line','inq_last_6mths', 'open_acc', 'pub_rec', 'revol_bal', 'revol_util','total_acc', 'out_prncp', 'out_prncp_inv','total_pymnt', 'total_pymnt_inv', 'total_rec_prncp','total_rec_int', 'total_rec_late_fee', 'recoveries', 'collection_recovery_fee', 'last_pymnt_d', 'last_pymnt_amnt', 'last_credit_pull_d', 'application_type' ],axis = 1, inplace = True)"
   ]
  },
  {
   "cell_type": "code",
   "execution_count": 947,
   "id": "d18f1dbe",
   "metadata": {},
   "outputs": [
    {
     "name": "stdout",
     "output_type": "stream",
     "text": [
      "(39717, 36)\n"
     ]
    }
   ],
   "source": [
    "# Check the shape now\n",
    "print(loan_data.shape)"
   ]
  },
  {
   "cell_type": "markdown",
   "id": "4f281893",
   "metadata": {},
   "source": [
    "#### Now the number of columns have dropped from 57 to 36"
   ]
  },
  {
   "cell_type": "code",
   "execution_count": 948,
   "id": "ba000693",
   "metadata": {},
   "outputs": [
    {
     "data": {
      "text/html": [
       "<div>\n",
       "<style scoped>\n",
       "    .dataframe tbody tr th:only-of-type {\n",
       "        vertical-align: middle;\n",
       "    }\n",
       "\n",
       "    .dataframe tbody tr th {\n",
       "        vertical-align: top;\n",
       "    }\n",
       "\n",
       "    .dataframe thead th {\n",
       "        text-align: right;\n",
       "    }\n",
       "</style>\n",
       "<table border=\"1\" class=\"dataframe\">\n",
       "  <thead>\n",
       "    <tr style=\"text-align: right;\">\n",
       "      <th></th>\n",
       "      <th>id</th>\n",
       "      <th>member_id</th>\n",
       "      <th>loan_amnt</th>\n",
       "      <th>funded_amnt</th>\n",
       "      <th>funded_amnt_inv</th>\n",
       "      <th>term</th>\n",
       "      <th>int_rate</th>\n",
       "      <th>installment</th>\n",
       "      <th>grade</th>\n",
       "      <th>sub_grade</th>\n",
       "      <th>...</th>\n",
       "      <th>mths_since_last_record</th>\n",
       "      <th>initial_list_status</th>\n",
       "      <th>next_pymnt_d</th>\n",
       "      <th>collections_12_mths_ex_med</th>\n",
       "      <th>policy_code</th>\n",
       "      <th>acc_now_delinq</th>\n",
       "      <th>chargeoff_within_12_mths</th>\n",
       "      <th>delinq_amnt</th>\n",
       "      <th>pub_rec_bankruptcies</th>\n",
       "      <th>tax_liens</th>\n",
       "    </tr>\n",
       "  </thead>\n",
       "  <tbody>\n",
       "    <tr>\n",
       "      <th>0</th>\n",
       "      <td>1077501</td>\n",
       "      <td>1296599</td>\n",
       "      <td>5000</td>\n",
       "      <td>5000</td>\n",
       "      <td>4975.0</td>\n",
       "      <td>36 months</td>\n",
       "      <td>10.65%</td>\n",
       "      <td>162.87</td>\n",
       "      <td>B</td>\n",
       "      <td>B2</td>\n",
       "      <td>...</td>\n",
       "      <td>NaN</td>\n",
       "      <td>f</td>\n",
       "      <td>NaN</td>\n",
       "      <td>0.0</td>\n",
       "      <td>1</td>\n",
       "      <td>0</td>\n",
       "      <td>0.0</td>\n",
       "      <td>0</td>\n",
       "      <td>0.0</td>\n",
       "      <td>0.0</td>\n",
       "    </tr>\n",
       "    <tr>\n",
       "      <th>1</th>\n",
       "      <td>1077430</td>\n",
       "      <td>1314167</td>\n",
       "      <td>2500</td>\n",
       "      <td>2500</td>\n",
       "      <td>2500.0</td>\n",
       "      <td>60 months</td>\n",
       "      <td>15.27%</td>\n",
       "      <td>59.83</td>\n",
       "      <td>C</td>\n",
       "      <td>C4</td>\n",
       "      <td>...</td>\n",
       "      <td>NaN</td>\n",
       "      <td>f</td>\n",
       "      <td>NaN</td>\n",
       "      <td>0.0</td>\n",
       "      <td>1</td>\n",
       "      <td>0</td>\n",
       "      <td>0.0</td>\n",
       "      <td>0</td>\n",
       "      <td>0.0</td>\n",
       "      <td>0.0</td>\n",
       "    </tr>\n",
       "    <tr>\n",
       "      <th>2</th>\n",
       "      <td>1077175</td>\n",
       "      <td>1313524</td>\n",
       "      <td>2400</td>\n",
       "      <td>2400</td>\n",
       "      <td>2400.0</td>\n",
       "      <td>36 months</td>\n",
       "      <td>15.96%</td>\n",
       "      <td>84.33</td>\n",
       "      <td>C</td>\n",
       "      <td>C5</td>\n",
       "      <td>...</td>\n",
       "      <td>NaN</td>\n",
       "      <td>f</td>\n",
       "      <td>NaN</td>\n",
       "      <td>0.0</td>\n",
       "      <td>1</td>\n",
       "      <td>0</td>\n",
       "      <td>0.0</td>\n",
       "      <td>0</td>\n",
       "      <td>0.0</td>\n",
       "      <td>0.0</td>\n",
       "    </tr>\n",
       "    <tr>\n",
       "      <th>3</th>\n",
       "      <td>1076863</td>\n",
       "      <td>1277178</td>\n",
       "      <td>10000</td>\n",
       "      <td>10000</td>\n",
       "      <td>10000.0</td>\n",
       "      <td>36 months</td>\n",
       "      <td>13.49%</td>\n",
       "      <td>339.31</td>\n",
       "      <td>C</td>\n",
       "      <td>C1</td>\n",
       "      <td>...</td>\n",
       "      <td>NaN</td>\n",
       "      <td>f</td>\n",
       "      <td>NaN</td>\n",
       "      <td>0.0</td>\n",
       "      <td>1</td>\n",
       "      <td>0</td>\n",
       "      <td>0.0</td>\n",
       "      <td>0</td>\n",
       "      <td>0.0</td>\n",
       "      <td>0.0</td>\n",
       "    </tr>\n",
       "    <tr>\n",
       "      <th>4</th>\n",
       "      <td>1075358</td>\n",
       "      <td>1311748</td>\n",
       "      <td>3000</td>\n",
       "      <td>3000</td>\n",
       "      <td>3000.0</td>\n",
       "      <td>60 months</td>\n",
       "      <td>12.69%</td>\n",
       "      <td>67.79</td>\n",
       "      <td>B</td>\n",
       "      <td>B5</td>\n",
       "      <td>...</td>\n",
       "      <td>NaN</td>\n",
       "      <td>f</td>\n",
       "      <td>Jun-16</td>\n",
       "      <td>0.0</td>\n",
       "      <td>1</td>\n",
       "      <td>0</td>\n",
       "      <td>0.0</td>\n",
       "      <td>0</td>\n",
       "      <td>0.0</td>\n",
       "      <td>0.0</td>\n",
       "    </tr>\n",
       "  </tbody>\n",
       "</table>\n",
       "<p>5 rows × 36 columns</p>\n",
       "</div>"
      ],
      "text/plain": [
       "        id  member_id  loan_amnt  funded_amnt  funded_amnt_inv        term  \\\n",
       "0  1077501    1296599       5000         5000           4975.0   36 months   \n",
       "1  1077430    1314167       2500         2500           2500.0   60 months   \n",
       "2  1077175    1313524       2400         2400           2400.0   36 months   \n",
       "3  1076863    1277178      10000        10000          10000.0   36 months   \n",
       "4  1075358    1311748       3000         3000           3000.0   60 months   \n",
       "\n",
       "  int_rate  installment grade sub_grade  ... mths_since_last_record  \\\n",
       "0   10.65%       162.87     B        B2  ...                    NaN   \n",
       "1   15.27%        59.83     C        C4  ...                    NaN   \n",
       "2   15.96%        84.33     C        C5  ...                    NaN   \n",
       "3   13.49%       339.31     C        C1  ...                    NaN   \n",
       "4   12.69%        67.79     B        B5  ...                    NaN   \n",
       "\n",
       "  initial_list_status next_pymnt_d  collections_12_mths_ex_med policy_code  \\\n",
       "0                   f          NaN                         0.0           1   \n",
       "1                   f          NaN                         0.0           1   \n",
       "2                   f          NaN                         0.0           1   \n",
       "3                   f          NaN                         0.0           1   \n",
       "4                   f       Jun-16                         0.0           1   \n",
       "\n",
       "  acc_now_delinq chargeoff_within_12_mths delinq_amnt pub_rec_bankruptcies  \\\n",
       "0              0                      0.0           0                  0.0   \n",
       "1              0                      0.0           0                  0.0   \n",
       "2              0                      0.0           0                  0.0   \n",
       "3              0                      0.0           0                  0.0   \n",
       "4              0                      0.0           0                  0.0   \n",
       "\n",
       "  tax_liens  \n",
       "0       0.0  \n",
       "1       0.0  \n",
       "2       0.0  \n",
       "3       0.0  \n",
       "4       0.0  \n",
       "\n",
       "[5 rows x 36 columns]"
      ]
     },
     "execution_count": 948,
     "metadata": {},
     "output_type": "execute_result"
    }
   ],
   "source": [
    "loan_data.head()"
   ]
  },
  {
   "cell_type": "code",
   "execution_count": 949,
   "id": "0a7ad0d0",
   "metadata": {},
   "outputs": [
    {
     "data": {
      "text/plain": [
       "Index(['id', 'member_id', 'loan_amnt', 'funded_amnt', 'funded_amnt_inv',\n",
       "       'term', 'int_rate', 'installment', 'grade', 'sub_grade', 'emp_title',\n",
       "       'emp_length', 'home_ownership', 'annual_inc', 'verification_status',\n",
       "       'issue_d', 'loan_status', 'pymnt_plan', 'url', 'desc', 'purpose',\n",
       "       'title', 'zip_code', 'addr_state', 'dti', 'mths_since_last_delinq',\n",
       "       'mths_since_last_record', 'initial_list_status', 'next_pymnt_d',\n",
       "       'collections_12_mths_ex_med', 'policy_code', 'acc_now_delinq',\n",
       "       'chargeoff_within_12_mths', 'delinq_amnt', 'pub_rec_bankruptcies',\n",
       "       'tax_liens'],\n",
       "      dtype='object')"
      ]
     },
     "execution_count": 949,
     "metadata": {},
     "output_type": "execute_result"
    }
   ],
   "source": [
    "#Check the names of columns \n",
    "loan_data.columns"
   ]
  },
  {
   "cell_type": "markdown",
   "id": "6a55089d",
   "metadata": {},
   "source": [
    "### c) Dropping additional columns as they don't offer much to our analysis"
   ]
  },
  {
   "cell_type": "code",
   "execution_count": 950,
   "id": "60fc994b",
   "metadata": {},
   "outputs": [],
   "source": [
    "loan_data.drop(['id', 'member_id', 'emp_title', 'mths_since_last_delinq', 'mths_since_last_record', 'initial_list_status', 'next_pymnt_d','url', 'desc', 'zip_code', 'title', 'tax_liens','delinq_amnt','chargeoff_within_12_mths', 'collections_12_mths_ex_med', 'policy_code', 'pymnt_plan','acc_now_delinq', 'pub_rec_bankruptcies' ],axis = 1, inplace = True)"
   ]
  },
  {
   "cell_type": "code",
   "execution_count": 951,
   "id": "404e3ceb",
   "metadata": {},
   "outputs": [
    {
     "data": {
      "text/plain": [
       "(39717, 17)"
      ]
     },
     "execution_count": 951,
     "metadata": {},
     "output_type": "execute_result"
    }
   ],
   "source": [
    "loan_data.shape"
   ]
  },
  {
   "cell_type": "markdown",
   "id": "77c98fcb",
   "metadata": {},
   "source": [
    "#### Now the number of columns have dropped from 36 to 17"
   ]
  },
  {
   "cell_type": "code",
   "execution_count": 952,
   "id": "5b555077",
   "metadata": {},
   "outputs": [
    {
     "data": {
      "text/plain": [
       "Index(['loan_amnt', 'funded_amnt', 'funded_amnt_inv', 'term', 'int_rate',\n",
       "       'installment', 'grade', 'sub_grade', 'emp_length', 'home_ownership',\n",
       "       'annual_inc', 'verification_status', 'issue_d', 'loan_status',\n",
       "       'purpose', 'addr_state', 'dti'],\n",
       "      dtype='object')"
      ]
     },
     "execution_count": 952,
     "metadata": {},
     "output_type": "execute_result"
    }
   ],
   "source": [
    "loan_data.columns"
   ]
  },
  {
   "cell_type": "markdown",
   "id": "a21cdee2",
   "metadata": {},
   "source": [
    "### d) Check for Missing values in the remaining columns"
   ]
  },
  {
   "cell_type": "code",
   "execution_count": 953,
   "id": "ca058e55",
   "metadata": {},
   "outputs": [
    {
     "data": {
      "text/plain": [
       "loan_amnt                 0\n",
       "funded_amnt               0\n",
       "funded_amnt_inv           0\n",
       "term                      0\n",
       "int_rate                  0\n",
       "installment               0\n",
       "grade                     0\n",
       "sub_grade                 0\n",
       "emp_length             1075\n",
       "home_ownership            0\n",
       "annual_inc                0\n",
       "verification_status       0\n",
       "issue_d                   0\n",
       "loan_status               0\n",
       "purpose                   0\n",
       "addr_state                0\n",
       "dti                       0\n",
       "dtype: int64"
      ]
     },
     "execution_count": 953,
     "metadata": {},
     "output_type": "execute_result"
    }
   ],
   "source": [
    "# Check for any missing values\n",
    "loan_data.isnull().sum()"
   ]
  },
  {
   "cell_type": "markdown",
   "id": "d6750bc1",
   "metadata": {},
   "source": [
    "#### emp_length field has 1075 missing values"
   ]
  },
  {
   "cell_type": "code",
   "execution_count": 954,
   "id": "12eee27e",
   "metadata": {},
   "outputs": [
    {
     "data": {
      "text/plain": [
       "10+ years    8879\n",
       "< 1 year     4583\n",
       "2 years      4388\n",
       "3 years      4095\n",
       "4 years      3436\n",
       "5 years      3282\n",
       "1 year       3240\n",
       "6 years      2229\n",
       "7 years      1773\n",
       "8 years      1479\n",
       "9 years      1258\n",
       "Name: emp_length, dtype: int64"
      ]
     },
     "execution_count": 954,
     "metadata": {},
     "output_type": "execute_result"
    }
   ],
   "source": [
    "#Check the occurence of unique value\n",
    "loan_data.emp_length.value_counts()"
   ]
  },
  {
   "cell_type": "markdown",
   "id": "b2e12149",
   "metadata": {},
   "source": [
    "### e) The missing values will be replaced by the mode. The missing values are less in number so imputing with mode does not affect our analysis"
   ]
  },
  {
   "cell_type": "code",
   "execution_count": 955,
   "id": "8c844e34",
   "metadata": {},
   "outputs": [
    {
     "data": {
      "text/plain": [
       "loan_amnt                 0\n",
       "funded_amnt               0\n",
       "funded_amnt_inv           0\n",
       "term                      0\n",
       "int_rate                  0\n",
       "installment               0\n",
       "grade                     0\n",
       "sub_grade                 0\n",
       "emp_length             1075\n",
       "home_ownership            0\n",
       "annual_inc                0\n",
       "verification_status       0\n",
       "issue_d                   0\n",
       "loan_status               0\n",
       "purpose                   0\n",
       "addr_state                0\n",
       "dti                       0\n",
       "dtype: int64"
      ]
     },
     "execution_count": 955,
     "metadata": {},
     "output_type": "execute_result"
    }
   ],
   "source": [
    "loan_data.isnull().sum()"
   ]
  },
  {
   "cell_type": "code",
   "execution_count": 956,
   "id": "5835d9c9",
   "metadata": {},
   "outputs": [
    {
     "data": {
      "text/plain": [
       "0"
      ]
     },
     "execution_count": 956,
     "metadata": {},
     "output_type": "execute_result"
    }
   ],
   "source": [
    "# Replace the missing values with mode\n",
    "loan_data.emp_length.fillna(loan_data.emp_length.mode()[0], inplace = True)\n",
    "\n",
    "#Check if any values are missing still\n",
    "loan_data.emp_length.isnull().sum()"
   ]
  },
  {
   "cell_type": "markdown",
   "id": "1812f110",
   "metadata": {},
   "source": [
    "### f) Formatting columns - Standardize the data\n",
    " -  Let's format employment length (emp_length) field to contain only numbers\n",
    " -  Let's remove % from interest rate(int_rate) field to contain only numbers"
   ]
  },
  {
   "cell_type": "code",
   "execution_count": 957,
   "id": "6ca80f32",
   "metadata": {},
   "outputs": [],
   "source": [
    "#Convert to a numerical column\n",
    "loan_data['emp_length']=loan_data.emp_length.str.extract('(\\d+)')"
   ]
  },
  {
   "cell_type": "code",
   "execution_count": 958,
   "id": "2c0e298d",
   "metadata": {},
   "outputs": [
    {
     "data": {
      "text/plain": [
       "0        10\n",
       "1         1\n",
       "2        10\n",
       "3        10\n",
       "4         1\n",
       "         ..\n",
       "39712     4\n",
       "39713     3\n",
       "39714     1\n",
       "39715     1\n",
       "39716     1\n",
       "Name: emp_length, Length: 39717, dtype: object"
      ]
     },
     "execution_count": 958,
     "metadata": {},
     "output_type": "execute_result"
    }
   ],
   "source": [
    "#Display the emp_length column\n",
    "loan_data['emp_length']"
   ]
  },
  {
   "cell_type": "code",
   "execution_count": 959,
   "id": "37332a40",
   "metadata": {},
   "outputs": [],
   "source": [
    "#Convert to a numerical column\n",
    "loan_data['int_rate'] = loan_data['int_rate'].str.rstrip('%')"
   ]
  },
  {
   "cell_type": "code",
   "execution_count": 960,
   "id": "21c236e1",
   "metadata": {},
   "outputs": [
    {
     "data": {
      "text/plain": [
       "0        10.65\n",
       "1        15.27\n",
       "2        15.96\n",
       "3        13.49\n",
       "4        12.69\n",
       "         ...  \n",
       "39712     8.07\n",
       "39713    10.28\n",
       "39714     8.07\n",
       "39715     7.43\n",
       "39716    13.75\n",
       "Name: int_rate, Length: 39717, dtype: object"
      ]
     },
     "execution_count": 960,
     "metadata": {},
     "output_type": "execute_result"
    }
   ],
   "source": [
    "#Display the data\n",
    "loan_data['int_rate']"
   ]
  },
  {
   "cell_type": "markdown",
   "id": "12d02d68",
   "metadata": {},
   "source": [
    "### g) Removing the current loan status data from the analysis as they cannot be used to predict the defaulters"
   ]
  },
  {
   "cell_type": "code",
   "execution_count": 961,
   "id": "fc35a2e8",
   "metadata": {},
   "outputs": [
    {
     "data": {
      "text/plain": [
       "array(['Fully Paid', 'Charged Off'], dtype=object)"
      ]
     },
     "execution_count": 961,
     "metadata": {},
     "output_type": "execute_result"
    }
   ],
   "source": [
    "loan_data = loan_data[loan_data.loan_status != \"Current\"]\n",
    "loan_data.loan_status.unique()"
   ]
  },
  {
   "cell_type": "code",
   "execution_count": 962,
   "id": "f102f040",
   "metadata": {},
   "outputs": [
    {
     "data": {
      "text/plain": [
       "0        10\n",
       "1         1\n",
       "2        10\n",
       "3        10\n",
       "5         3\n",
       "         ..\n",
       "39712     4\n",
       "39713     3\n",
       "39714     1\n",
       "39715     1\n",
       "39716     1\n",
       "Name: emp_length, Length: 38577, dtype: object"
      ]
     },
     "execution_count": 962,
     "metadata": {},
     "output_type": "execute_result"
    }
   ],
   "source": [
    "loan_data.emp_length"
   ]
  },
  {
   "cell_type": "code",
   "execution_count": 963,
   "id": "85cfce33",
   "metadata": {},
   "outputs": [
    {
     "data": {
      "text/html": [
       "<div>\n",
       "<style scoped>\n",
       "    .dataframe tbody tr th:only-of-type {\n",
       "        vertical-align: middle;\n",
       "    }\n",
       "\n",
       "    .dataframe tbody tr th {\n",
       "        vertical-align: top;\n",
       "    }\n",
       "\n",
       "    .dataframe thead th {\n",
       "        text-align: right;\n",
       "    }\n",
       "</style>\n",
       "<table border=\"1\" class=\"dataframe\">\n",
       "  <thead>\n",
       "    <tr style=\"text-align: right;\">\n",
       "      <th></th>\n",
       "      <th>loan_amnt</th>\n",
       "      <th>funded_amnt</th>\n",
       "      <th>funded_amnt_inv</th>\n",
       "      <th>term</th>\n",
       "      <th>int_rate</th>\n",
       "      <th>installment</th>\n",
       "      <th>grade</th>\n",
       "      <th>sub_grade</th>\n",
       "      <th>emp_length</th>\n",
       "      <th>home_ownership</th>\n",
       "      <th>annual_inc</th>\n",
       "      <th>verification_status</th>\n",
       "      <th>issue_d</th>\n",
       "      <th>loan_status</th>\n",
       "      <th>purpose</th>\n",
       "      <th>addr_state</th>\n",
       "      <th>dti</th>\n",
       "    </tr>\n",
       "  </thead>\n",
       "  <tbody>\n",
       "    <tr>\n",
       "      <th>count</th>\n",
       "      <td>38577.000000</td>\n",
       "      <td>38577.000000</td>\n",
       "      <td>38577.000000</td>\n",
       "      <td>38577</td>\n",
       "      <td>38577</td>\n",
       "      <td>38577.000000</td>\n",
       "      <td>38577</td>\n",
       "      <td>38577</td>\n",
       "      <td>38577</td>\n",
       "      <td>38577</td>\n",
       "      <td>3.857700e+04</td>\n",
       "      <td>38577</td>\n",
       "      <td>38577</td>\n",
       "      <td>38577</td>\n",
       "      <td>38577</td>\n",
       "      <td>38577</td>\n",
       "      <td>38577.000000</td>\n",
       "    </tr>\n",
       "    <tr>\n",
       "      <th>unique</th>\n",
       "      <td>NaN</td>\n",
       "      <td>NaN</td>\n",
       "      <td>NaN</td>\n",
       "      <td>2</td>\n",
       "      <td>370</td>\n",
       "      <td>NaN</td>\n",
       "      <td>7</td>\n",
       "      <td>35</td>\n",
       "      <td>10</td>\n",
       "      <td>5</td>\n",
       "      <td>NaN</td>\n",
       "      <td>3</td>\n",
       "      <td>55</td>\n",
       "      <td>2</td>\n",
       "      <td>14</td>\n",
       "      <td>50</td>\n",
       "      <td>NaN</td>\n",
       "    </tr>\n",
       "    <tr>\n",
       "      <th>top</th>\n",
       "      <td>NaN</td>\n",
       "      <td>NaN</td>\n",
       "      <td>NaN</td>\n",
       "      <td>36 months</td>\n",
       "      <td>10.99</td>\n",
       "      <td>NaN</td>\n",
       "      <td>B</td>\n",
       "      <td>A4</td>\n",
       "      <td>10</td>\n",
       "      <td>RENT</td>\n",
       "      <td>NaN</td>\n",
       "      <td>Not Verified</td>\n",
       "      <td>Nov-11</td>\n",
       "      <td>Fully Paid</td>\n",
       "      <td>debt_consolidation</td>\n",
       "      <td>CA</td>\n",
       "      <td>NaN</td>\n",
       "    </tr>\n",
       "    <tr>\n",
       "      <th>freq</th>\n",
       "      <td>NaN</td>\n",
       "      <td>NaN</td>\n",
       "      <td>NaN</td>\n",
       "      <td>29096</td>\n",
       "      <td>913</td>\n",
       "      <td>NaN</td>\n",
       "      <td>11675</td>\n",
       "      <td>2873</td>\n",
       "      <td>9521</td>\n",
       "      <td>18480</td>\n",
       "      <td>NaN</td>\n",
       "      <td>16694</td>\n",
       "      <td>2062</td>\n",
       "      <td>32950</td>\n",
       "      <td>18055</td>\n",
       "      <td>6949</td>\n",
       "      <td>NaN</td>\n",
       "    </tr>\n",
       "    <tr>\n",
       "      <th>mean</th>\n",
       "      <td>11047.025430</td>\n",
       "      <td>10784.058506</td>\n",
       "      <td>10222.481123</td>\n",
       "      <td>NaN</td>\n",
       "      <td>NaN</td>\n",
       "      <td>322.466318</td>\n",
       "      <td>NaN</td>\n",
       "      <td>NaN</td>\n",
       "      <td>NaN</td>\n",
       "      <td>NaN</td>\n",
       "      <td>6.877797e+04</td>\n",
       "      <td>NaN</td>\n",
       "      <td>NaN</td>\n",
       "      <td>NaN</td>\n",
       "      <td>NaN</td>\n",
       "      <td>NaN</td>\n",
       "      <td>13.272727</td>\n",
       "    </tr>\n",
       "    <tr>\n",
       "      <th>std</th>\n",
       "      <td>7348.441646</td>\n",
       "      <td>7090.306027</td>\n",
       "      <td>7022.720644</td>\n",
       "      <td>NaN</td>\n",
       "      <td>NaN</td>\n",
       "      <td>208.639215</td>\n",
       "      <td>NaN</td>\n",
       "      <td>NaN</td>\n",
       "      <td>NaN</td>\n",
       "      <td>NaN</td>\n",
       "      <td>6.421868e+04</td>\n",
       "      <td>NaN</td>\n",
       "      <td>NaN</td>\n",
       "      <td>NaN</td>\n",
       "      <td>NaN</td>\n",
       "      <td>NaN</td>\n",
       "      <td>6.673044</td>\n",
       "    </tr>\n",
       "    <tr>\n",
       "      <th>min</th>\n",
       "      <td>500.000000</td>\n",
       "      <td>500.000000</td>\n",
       "      <td>0.000000</td>\n",
       "      <td>NaN</td>\n",
       "      <td>NaN</td>\n",
       "      <td>15.690000</td>\n",
       "      <td>NaN</td>\n",
       "      <td>NaN</td>\n",
       "      <td>NaN</td>\n",
       "      <td>NaN</td>\n",
       "      <td>4.000000e+03</td>\n",
       "      <td>NaN</td>\n",
       "      <td>NaN</td>\n",
       "      <td>NaN</td>\n",
       "      <td>NaN</td>\n",
       "      <td>NaN</td>\n",
       "      <td>0.000000</td>\n",
       "    </tr>\n",
       "    <tr>\n",
       "      <th>25%</th>\n",
       "      <td>5300.000000</td>\n",
       "      <td>5200.000000</td>\n",
       "      <td>5000.000000</td>\n",
       "      <td>NaN</td>\n",
       "      <td>NaN</td>\n",
       "      <td>165.740000</td>\n",
       "      <td>NaN</td>\n",
       "      <td>NaN</td>\n",
       "      <td>NaN</td>\n",
       "      <td>NaN</td>\n",
       "      <td>4.000000e+04</td>\n",
       "      <td>NaN</td>\n",
       "      <td>NaN</td>\n",
       "      <td>NaN</td>\n",
       "      <td>NaN</td>\n",
       "      <td>NaN</td>\n",
       "      <td>8.130000</td>\n",
       "    </tr>\n",
       "    <tr>\n",
       "      <th>50%</th>\n",
       "      <td>9600.000000</td>\n",
       "      <td>9550.000000</td>\n",
       "      <td>8733.440000</td>\n",
       "      <td>NaN</td>\n",
       "      <td>NaN</td>\n",
       "      <td>277.860000</td>\n",
       "      <td>NaN</td>\n",
       "      <td>NaN</td>\n",
       "      <td>NaN</td>\n",
       "      <td>NaN</td>\n",
       "      <td>5.886800e+04</td>\n",
       "      <td>NaN</td>\n",
       "      <td>NaN</td>\n",
       "      <td>NaN</td>\n",
       "      <td>NaN</td>\n",
       "      <td>NaN</td>\n",
       "      <td>13.370000</td>\n",
       "    </tr>\n",
       "    <tr>\n",
       "      <th>75%</th>\n",
       "      <td>15000.000000</td>\n",
       "      <td>15000.000000</td>\n",
       "      <td>14000.000000</td>\n",
       "      <td>NaN</td>\n",
       "      <td>NaN</td>\n",
       "      <td>425.550000</td>\n",
       "      <td>NaN</td>\n",
       "      <td>NaN</td>\n",
       "      <td>NaN</td>\n",
       "      <td>NaN</td>\n",
       "      <td>8.200000e+04</td>\n",
       "      <td>NaN</td>\n",
       "      <td>NaN</td>\n",
       "      <td>NaN</td>\n",
       "      <td>NaN</td>\n",
       "      <td>NaN</td>\n",
       "      <td>18.560000</td>\n",
       "    </tr>\n",
       "    <tr>\n",
       "      <th>max</th>\n",
       "      <td>35000.000000</td>\n",
       "      <td>35000.000000</td>\n",
       "      <td>35000.000000</td>\n",
       "      <td>NaN</td>\n",
       "      <td>NaN</td>\n",
       "      <td>1305.190000</td>\n",
       "      <td>NaN</td>\n",
       "      <td>NaN</td>\n",
       "      <td>NaN</td>\n",
       "      <td>NaN</td>\n",
       "      <td>6.000000e+06</td>\n",
       "      <td>NaN</td>\n",
       "      <td>NaN</td>\n",
       "      <td>NaN</td>\n",
       "      <td>NaN</td>\n",
       "      <td>NaN</td>\n",
       "      <td>29.990000</td>\n",
       "    </tr>\n",
       "  </tbody>\n",
       "</table>\n",
       "</div>"
      ],
      "text/plain": [
       "           loan_amnt   funded_amnt  funded_amnt_inv        term int_rate  \\\n",
       "count   38577.000000  38577.000000     38577.000000       38577    38577   \n",
       "unique           NaN           NaN              NaN           2      370   \n",
       "top              NaN           NaN              NaN   36 months    10.99   \n",
       "freq             NaN           NaN              NaN       29096      913   \n",
       "mean    11047.025430  10784.058506     10222.481123         NaN      NaN   \n",
       "std      7348.441646   7090.306027      7022.720644         NaN      NaN   \n",
       "min       500.000000    500.000000         0.000000         NaN      NaN   \n",
       "25%      5300.000000   5200.000000      5000.000000         NaN      NaN   \n",
       "50%      9600.000000   9550.000000      8733.440000         NaN      NaN   \n",
       "75%     15000.000000  15000.000000     14000.000000         NaN      NaN   \n",
       "max     35000.000000  35000.000000     35000.000000         NaN      NaN   \n",
       "\n",
       "         installment  grade sub_grade emp_length home_ownership    annual_inc  \\\n",
       "count   38577.000000  38577     38577      38577          38577  3.857700e+04   \n",
       "unique           NaN      7        35         10              5           NaN   \n",
       "top              NaN      B        A4         10           RENT           NaN   \n",
       "freq             NaN  11675      2873       9521          18480           NaN   \n",
       "mean      322.466318    NaN       NaN        NaN            NaN  6.877797e+04   \n",
       "std       208.639215    NaN       NaN        NaN            NaN  6.421868e+04   \n",
       "min        15.690000    NaN       NaN        NaN            NaN  4.000000e+03   \n",
       "25%       165.740000    NaN       NaN        NaN            NaN  4.000000e+04   \n",
       "50%       277.860000    NaN       NaN        NaN            NaN  5.886800e+04   \n",
       "75%       425.550000    NaN       NaN        NaN            NaN  8.200000e+04   \n",
       "max      1305.190000    NaN       NaN        NaN            NaN  6.000000e+06   \n",
       "\n",
       "       verification_status issue_d loan_status             purpose addr_state  \\\n",
       "count                38577   38577       38577               38577      38577   \n",
       "unique                   3      55           2                  14         50   \n",
       "top           Not Verified  Nov-11  Fully Paid  debt_consolidation         CA   \n",
       "freq                 16694    2062       32950               18055       6949   \n",
       "mean                   NaN     NaN         NaN                 NaN        NaN   \n",
       "std                    NaN     NaN         NaN                 NaN        NaN   \n",
       "min                    NaN     NaN         NaN                 NaN        NaN   \n",
       "25%                    NaN     NaN         NaN                 NaN        NaN   \n",
       "50%                    NaN     NaN         NaN                 NaN        NaN   \n",
       "75%                    NaN     NaN         NaN                 NaN        NaN   \n",
       "max                    NaN     NaN         NaN                 NaN        NaN   \n",
       "\n",
       "                 dti  \n",
       "count   38577.000000  \n",
       "unique           NaN  \n",
       "top              NaN  \n",
       "freq             NaN  \n",
       "mean       13.272727  \n",
       "std         6.673044  \n",
       "min         0.000000  \n",
       "25%         8.130000  \n",
       "50%        13.370000  \n",
       "75%        18.560000  \n",
       "max        29.990000  "
      ]
     },
     "execution_count": 963,
     "metadata": {},
     "output_type": "execute_result"
    }
   ],
   "source": [
    "loan_data.describe(include='all')"
   ]
  },
  {
   "cell_type": "code",
   "execution_count": 964,
   "id": "100a6e93",
   "metadata": {},
   "outputs": [
    {
     "data": {
      "text/plain": [
       "loan_amnt                int64\n",
       "funded_amnt              int64\n",
       "funded_amnt_inv        float64\n",
       "term                    object\n",
       "int_rate                object\n",
       "installment            float64\n",
       "grade                   object\n",
       "sub_grade               object\n",
       "emp_length              object\n",
       "home_ownership          object\n",
       "annual_inc             float64\n",
       "verification_status     object\n",
       "issue_d                 object\n",
       "loan_status             object\n",
       "purpose                 object\n",
       "addr_state              object\n",
       "dti                    float64\n",
       "dtype: object"
      ]
     },
     "execution_count": 964,
     "metadata": {},
     "output_type": "execute_result"
    }
   ],
   "source": [
    "loan_data.dtypes"
   ]
  },
  {
   "cell_type": "markdown",
   "id": "cee198e3",
   "metadata": {},
   "source": [
    "### h) Converting the datatypes of variables"
   ]
  },
  {
   "cell_type": "code",
   "execution_count": 965,
   "id": "fa976aec",
   "metadata": {},
   "outputs": [],
   "source": [
    "loan_data['int_rate'] = loan_data['int_rate'].astype('float64')"
   ]
  },
  {
   "cell_type": "markdown",
   "id": "868a89b6",
   "metadata": {},
   "source": [
    "### i) Deriving columns"
   ]
  },
  {
   "cell_type": "code",
   "execution_count": 966,
   "id": "191adca3",
   "metadata": {},
   "outputs": [],
   "source": [
    "# Derived columns\n",
    "\n",
    "# categorise loan amounts into bins\n",
    "loan_data['loan_amnt_category'] = pd.cut(loan_data ['loan_amnt'], [0, 7000, 14000, 21000, 28000, 35000], labels=['0-7000', '7000-14000', '14000-21000', '21000-28000', '28000 +'])\n",
    "\n",
    "# categorise annual incomes into bins\n",
    "loan_data['annual_inc_category'] = pd.cut(loan_data['annual_inc'], [0, 20000, 40000, 60000, 80000,1000000], labels=['0-20000', '20000-40000', '40000-60000', '60000-80000', '80000 +'])\n",
    "\n",
    "# categorise intrest rates into bins\n",
    "loan_data['int_rate_category'] = pd.cut(loan_data['int_rate'], [0, 10, 12.5, 16, 20], labels=['0-10', '10-13', '12.5-16', '16 +'])\n",
    "\n",
    "# categorise dti into bins\n",
    "loan_data['dti_category'] = pd.cut(loan_data['dti'], [0, 5, 10, 15, 20, 25], labels=['0-5', '05-10', '10-15', '15-20', '25+'])"
   ]
  },
  {
   "cell_type": "code",
   "execution_count": 967,
   "id": "41b8e0f9",
   "metadata": {},
   "outputs": [],
   "source": [
    "# Derived columns\n",
    "\n",
    "# Lets create month and year columns separately\n",
    "\n",
    "loan_data.issue_d = pd.to_datetime(loan_data.issue_d, format='%b-%y')\n",
    "loan_data['year']=loan_data['issue_d'].dt.year\n",
    "loan_data['month']=loan_data['issue_d'].dt.month"
   ]
  },
  {
   "cell_type": "markdown",
   "id": "9f170588",
   "metadata": {},
   "source": [
    "### j) Handling outliers"
   ]
  },
  {
   "cell_type": "markdown",
   "id": "7fa3f722",
   "metadata": {},
   "source": [
    "### Variables which could possibly have outliers are:\n",
    "-  annual_inc\n",
    "-  dti\n",
    "-  loan_amnt\n",
    "-  funded_amnt\n",
    "-  funded_amnt_inv"
   ]
  },
  {
   "cell_type": "code",
   "execution_count": 968,
   "id": "ec893426",
   "metadata": {},
   "outputs": [
    {
     "data": {
      "image/png": "[encoded data removed]",
      "text/plain": [
       "<Figure size 432x288 with 1 Axes>"
      ]
     },
     "metadata": {},
     "output_type": "display_data"
    }
   ],
   "source": [
    "#Plot boxplot for annual_inc variable\n",
    "sns.boxplot(loan_data['annual_inc'])\n",
    "plt.show()"
   ]
  },
  {
   "cell_type": "markdown",
   "id": "cabdd095",
   "metadata": {},
   "source": [
    "#### The plot doesn't give much information. But clearly shows the presence of outliers"
   ]
  },
  {
   "cell_type": "code",
   "execution_count": 969,
   "id": "ca067ce3",
   "metadata": {},
   "outputs": [
    {
     "name": "stdout",
     "output_type": "stream",
     "text": [
      "0.50     58868.0\n",
      "0.75     82000.0\n",
      "0.90    115000.0\n",
      "0.95    140004.0\n",
      "0.97    165000.0\n",
      "0.98    187000.0\n",
      "0.99    234144.0\n",
      "Name: annual_inc, dtype: float64\n"
     ]
    }
   ],
   "source": [
    "#Lets print quartile information\n",
    "quantile_info = loan_data.annual_inc.quantile([0.5, 0.75,0.90, 0.95, 0.97,0.98, 0.99])\n",
    "print(quantile_info)"
   ]
  },
  {
   "cell_type": "markdown",
   "id": "77488fc9",
   "metadata": {},
   "source": [
    "#### Values above 95th percentile can be considered as outliers. They don't offer much to the analysis"
   ]
  },
  {
   "cell_type": "code",
   "execution_count": 970,
   "id": "d0c7bb46",
   "metadata": {},
   "outputs": [],
   "source": [
    "_95_percentile = loan_data['annual_inc'].quantile(0.95)\n",
    "loan_data = loan_data[loan_data.annual_inc <= _95_percentile]"
   ]
  },
  {
   "cell_type": "code",
   "execution_count": 971,
   "id": "a0fb2a02",
   "metadata": {},
   "outputs": [
    {
     "data": {
      "image/png": "[encoded data removed]",
      "text/plain": [
       "<Figure size 432x288 with 1 Axes>"
      ]
     },
     "metadata": {},
     "output_type": "display_data"
    }
   ],
   "source": [
    "sns.boxplot(loan_data['annual_inc'])\n",
    "plt.show()"
   ]
  },
  {
   "cell_type": "markdown",
   "id": "93881c00",
   "metadata": {},
   "source": [
    "#### The outliers in the annual_inc is almost removed as seen in the plot above"
   ]
  },
  {
   "cell_type": "code",
   "execution_count": 972,
   "id": "3fc958ac",
   "metadata": {},
   "outputs": [
    {
     "data": {
      "image/png": "[encoded data removed]",
      "text/plain": [
       "<Figure size 432x288 with 1 Axes>"
      ]
     },
     "metadata": {},
     "output_type": "display_data"
    }
   ],
   "source": [
    "#Plot boxplot for dti variable\n",
    "sns.boxplot(loan_data['dti'])\n",
    "plt.show()"
   ]
  },
  {
   "cell_type": "markdown",
   "id": "f44c6f78",
   "metadata": {},
   "source": [
    "#### There are no outliers for dti variable"
   ]
  },
  {
   "cell_type": "code",
   "execution_count": 973,
   "id": "91b317d7",
   "metadata": {},
   "outputs": [
    {
     "data": {
      "image/png": "[encoded data removed]",
      "text/plain": [
       "<Figure size 432x288 with 1 Axes>"
      ]
     },
     "metadata": {},
     "output_type": "display_data"
    }
   ],
   "source": [
    "#Plot boxplot for funded_amnt variable\n",
    "sns.boxplot(loan_data['funded_amnt'])\n",
    "plt.show()"
   ]
  },
  {
   "cell_type": "code",
   "execution_count": 974,
   "id": "f7293876",
   "metadata": {},
   "outputs": [
    {
     "data": {
      "image/png": "[encoded data removed]",
      "text/plain": [
       "<Figure size 432x288 with 1 Axes>"
      ]
     },
     "metadata": {},
     "output_type": "display_data"
    }
   ],
   "source": [
    "#Plot boxplot for funded_amnt_inv variable\n",
    "sns.boxplot(loan_data['funded_amnt_inv'])\n",
    "plt.show()"
   ]
  },
  {
   "cell_type": "markdown",
   "id": "ba0629b7",
   "metadata": {},
   "source": [
    "#### There are some values far from distribution. But the distribution is continous and there is no need to remove outliers."
   ]
  },
  {
   "cell_type": "markdown",
   "id": "df894132",
   "metadata": {},
   "source": [
    "## 2. Univariate Analysis"
   ]
  },
  {
   "cell_type": "markdown",
   "id": "73f7a2ea",
   "metadata": {},
   "source": [
    "### a) Distribution plot on loan amounts"
   ]
  },
  {
   "cell_type": "code",
   "execution_count": 976,
   "id": "cae06bfb",
   "metadata": {},
   "outputs": [],
   "source": [
    "#### There are no outliers for dti variable"
   ]
  },
  {
   "cell_type": "code",
   "execution_count": 977,
   "id": "06346da4",
   "metadata": {},
   "outputs": [
    {
     "data": {
      "image/png": "[encoded data removed]",
      "text/plain": [
       "<Figure size 1080x576 with 3 Axes>"
      ]
     },
     "metadata": {},
     "output_type": "display_data"
    }
   ],
   "source": [
    "# Lets see distribution of three loan amount fields using distribution plot.\n",
    "\n",
    "plt.figure(figsize=(15,8),facecolor='g')\n",
    "sns.set_style(\"dark\")\n",
    "\n",
    "# subplot 1\n",
    "plt.subplot(2, 3, 1)\n",
    "ax = sns.distplot(loan_data['loan_amnt'],rug = True)\n",
    "ax.set_title('Loan Amount distribution',fontsize=14,color='w')\n",
    "ax.set_xlabel('Loan Amount',fontsize=14,color='w')\n",
    "\n",
    "# subplot 2\n",
    "plt.subplot(2, 3, 2)\n",
    "ax = sns.distplot(loan_data['funded_amnt'],rug = True)\n",
    "ax.set_title('Funded Amount distribution',fontsize=14,color='w')\n",
    "ax.set_xlabel('Funded Amount',fontsize=14,color='w')\n",
    "\n",
    "# subplot 3\n",
    "plt.subplot(2, 3, 3)\n",
    "ax = sns.distplot(loan_data['funded_amnt_inv'],rug = True)\n",
    "ax.set_title('Funded Amount Inv. distribution',fontsize=14,color='w')\n",
    "ax.set_xlabel('Funded Amount Inv.',fontsize=14,color='w')\n",
    "plt.show()"
   ]
  },
  {
   "cell_type": "markdown",
   "id": "d59cc846",
   "metadata": {},
   "source": [
    "#### Observation:  Distribution of amounts for all three looks very much similar. We can use any one variable for our analysis further."
   ]
  },
  {
   "cell_type": "code",
   "execution_count": 978,
   "id": "32166064",
   "metadata": {},
   "outputs": [
    {
     "data": {
      "image/png": "[encoded data removed]",
      "text/plain": [
       "<Figure size 1080x576 with 2 Axes>"
      ]
     },
     "metadata": {},
     "output_type": "display_data"
    }
   ],
   "source": [
    "plt.figure(figsize=(15,8),facecolor='g')\n",
    "sns.set_style(\"dark\")\n",
    "\n",
    "# subplot 1\n",
    "plt.subplot(2, 2, 1)\n",
    "ax = sns.distplot(loan_data['loan_amnt'],rug = True)\n",
    "ax.set_title('Loan Amount distribution',fontsize=16,color='w')\n",
    "ax.set_xlabel('Loan Amount',fontsize=14,color='w')\n",
    "\n",
    "# subplot 2\n",
    "plt.subplot(2, 2, 2)\n",
    "ax = sns.boxplot(y=loan_data['loan_amnt'])\n",
    "ax.set_title('Loan Amount - Box Plot',fontsize=16,color='w')\n",
    "ax.set_ylabel('Loan Amount',fontsize=14,color='w')\n",
    "plt.show()"
   ]
  },
  {
   "cell_type": "markdown",
   "id": "c253b35e",
   "metadata": {},
   "source": [
    "#### Observation:  Most of the Loan amounts are in range of 5000 - 15000"
   ]
  },
  {
   "cell_type": "markdown",
   "id": "698609f8",
   "metadata": {},
   "source": [
    "### b) Distribution plot on interest rates"
   ]
  },
  {
   "cell_type": "code",
   "execution_count": 979,
   "id": "1316d840",
   "metadata": {},
   "outputs": [
    {
     "data": {
      "image/png": "[encoded data removed]",
      "text/plain": [
       "<Figure size 1080x576 with 2 Axes>"
      ]
     },
     "metadata": {},
     "output_type": "display_data"
    }
   ],
   "source": [
    "plt.figure(figsize=(15,8),facecolor='g')\n",
    "sns.set_style(\"dark\")\n",
    "\n",
    "# subplot 1\n",
    "plt.subplot(2, 2, 1)\n",
    "ax = sns.distplot(loan_data['int_rate'],rug = True)\n",
    "ax.set_title('Interest Rate - Distribution Plot',fontsize=16,color='w')\n",
    "ax.set_xlabel('Interest Rate',fontsize=14,color='w')\n",
    "\n",
    "# subplot 2\n",
    "plt.subplot(2, 2, 2)\n",
    "ax = sns.boxplot(y=loan_data['int_rate'])\n",
    "ax.set_title('Interest Rate - Box Plot',fontsize=16,color='w')\n",
    "ax.set_ylabel('Interest Rate',fontsize=14,color='w')\n",
    "plt.show()"
   ]
  },
  {
   "cell_type": "markdown",
   "id": "12daa95b",
   "metadata": {},
   "source": [
    "#### Observation:  Most interest rates are in range of 10% - 15%"
   ]
  },
  {
   "cell_type": "markdown",
   "id": "5e2541ac",
   "metadata": {},
   "source": [
    "### c) Distribution plot on annual income"
   ]
  },
  {
   "cell_type": "code",
   "execution_count": 980,
   "id": "faf32227",
   "metadata": {},
   "outputs": [
    {
     "data": {
      "image/png": "[encoded data removed]",
      "text/plain": [
       "<Figure size 1080x576 with 2 Axes>"
      ]
     },
     "metadata": {},
     "output_type": "display_data"
    }
   ],
   "source": [
    "plt.figure(figsize=(15,8),facecolor='g')\n",
    "sns.set_style(\"dark\")\n",
    "\n",
    "# subplot 1\n",
    "plt.subplot(2, 2, 1)\n",
    "ax = sns.distplot(loan_data['annual_inc'],rug = True)\n",
    "ax.set_title('Annual Income - Distribution Plot',fontsize=16,color='w')\n",
    "ax.set_xlabel('Annual Income',fontsize=14,color='w')\n",
    "\n",
    "# subplot 2\n",
    "plt.subplot(2, 2, 2)\n",
    "plt.title('Annual Income - Box Plot')\n",
    "ax = sns.boxplot(y=loan_data['annual_inc'])\n",
    "ax.set_title('Annual Income - Box Plot',fontsize=16,color='w')\n",
    "ax.set_ylabel('Annual Income',fontsize=14,color='w')\n",
    "plt.show()"
   ]
  },
  {
   "cell_type": "markdown",
   "id": "78bd2c7f",
   "metadata": {},
   "source": [
    "#### Observation:  Annual income of the borrowers are mostly in the range of 40000 - 80000"
   ]
  },
  {
   "cell_type": "markdown",
   "id": "e59dd7cb",
   "metadata": {},
   "source": [
    "### d) Count plot on loan status"
   ]
  },
  {
   "cell_type": "code",
   "execution_count": 981,
   "id": "692becf9",
   "metadata": {},
   "outputs": [
    {
     "data": {
      "image/png": "[encoded data removed]",
      "text/plain": [
       "<Figure size 720x576 with 1 Axes>"
      ]
     },
     "metadata": {},
     "output_type": "display_data"
    }
   ],
   "source": [
    "plt.figure(figsize=(10,8),facecolor='g')\n",
    "sns.set_style(\"dark\")\n",
    "\n",
    "ax = sns.countplot(x=\"loan_status\",data=loan_data,palette='mako')\n",
    "\n",
    "ax.set_title('Loan Status',fontsize=14,color='w')\n",
    "ax.set_xlabel('Loan Status',fontsize=14,color = 'w')\n",
    "ax.set_ylabel('Loan Application Count',fontsize=14,color = 'w')   \n",
    "\n",
    "# To show count of values above bars\n",
    "s = loan_data['loan_status'].value_counts()\n",
    "for i, v in s.reset_index().iterrows():\n",
    "    ax.text(i, v.loan_status + 0.3 , v.loan_status, color='k')\n"
   ]
  },
  {
   "cell_type": "markdown",
   "id": "95163d7d",
   "metadata": {},
   "source": [
    "#### Observation: Close to 15% loans were charged off out of total loan issued."
   ]
  },
  {
   "cell_type": "markdown",
   "id": "3bc2ff98",
   "metadata": {},
   "source": [
    "### e) Count plot on loan purpose"
   ]
  },
  {
   "cell_type": "code",
   "execution_count": 982,
   "id": "661edb2e",
   "metadata": {},
   "outputs": [
    {
     "data": {
      "image/png": "[encoded data removed]",
      "text/plain": [
       "<Figure size 1008x576 with 1 Axes>"
      ]
     },
     "metadata": {},
     "output_type": "display_data"
    }
   ],
   "source": [
    "plt.figure(figsize=(14,8),facecolor='g')\n",
    "sns.set_style(\"dark\")\n",
    "\n",
    "ax = sns.countplot(y=\"purpose\",data=loan_data,hue='loan_status',palette='mako')\n",
    "\n",
    "ax.set_title('Purpose Of Loan',fontsize=14,color='w')\n",
    "ax.set_ylabel('Purpose Of Loan',fontsize=14,color = 'w')\n",
    "ax.set_xlabel('Loan Application Count',fontsize=14,color = 'w')      \n",
    "plt.show()"
   ]
  },
  {
   "cell_type": "markdown",
   "id": "a038347c",
   "metadata": {},
   "source": [
    "#### Observation: Most loans were taken for debt consolidation and credit card bill payment. Also the charged off loans are high for these type of loans."
   ]
  },
  {
   "cell_type": "markdown",
   "id": "8f8ff636",
   "metadata": {},
   "source": [
    "### e) Count plot on home ownership"
   ]
  },
  {
   "cell_type": "code",
   "execution_count": 983,
   "id": "693695ea",
   "metadata": {},
   "outputs": [
    {
     "data": {
      "image/png": "[encoded data removed]",
      "text/plain": [
       "<Figure size 720x432 with 1 Axes>"
      ]
     },
     "metadata": {},
     "output_type": "display_data"
    }
   ],
   "source": [
    "plt.figure(figsize=(10,6),facecolor='g')\n",
    "\n",
    "ax = sns.countplot(x=\"home_ownership\",data=loan_data,hue='loan_status',palette='mako')\n",
    "\n",
    "ax.legend(bbox_to_anchor=(1, 1))\n",
    "\n",
    "ax.set_title('Home Ownership',fontsize=14,color='w')\n",
    "ax.set_xlabel('Home Ownership',fontsize=14,color = 'w')\n",
    "ax.set_ylabel('Loan Application Count',fontsize=14,color = 'w')      \n",
    "plt.show()"
   ]
  },
  {
   "cell_type": "markdown",
   "id": "a3b00d0e",
   "metadata": {},
   "source": [
    "#### Observation: Most loans were taken from people who are living on rent or mortgaged their home"
   ]
  },
  {
   "cell_type": "markdown",
   "id": "905b3aaf",
   "metadata": {},
   "source": [
    "### f) Bar plot on year and month"
   ]
  },
  {
   "cell_type": "code",
   "execution_count": 984,
   "id": "e0dbb891",
   "metadata": {},
   "outputs": [
    {
     "data": {
      "image/png": "[encoded data removed]",
      "text/plain": [
       "<Figure size 1008x432 with 1 Axes>"
      ]
     },
     "metadata": {},
     "output_type": "display_data"
    }
   ],
   "source": [
    "plt.figure(figsize=(14,6),facecolor='g')\n",
    "loan_data.groupby(['year', 'month']).size().plot(kind='bar')\n",
    "plt.ylabel('Loan applications count',fontsize=14,color='w')\n",
    "plt.xlabel('Year,Month',fontsize=14,color = 'w')      \n",
    "plt.title(\"No of loan applications issued over the years\",fontsize=14,color='w')\n",
    "plt.show()"
   ]
  },
  {
   "cell_type": "markdown",
   "id": "ebfe0cae",
   "metadata": {},
   "source": [
    "#### Observation: \n",
    "1. No of loan applications are increasing year on year\n",
    "2. Increase in no. of loans are adding to the number of charged off loans\n",
    "3. No. of loans reduced in year 2008 (may be due to great recession)"
   ]
  },
  {
   "cell_type": "markdown",
   "id": "ff7bac00",
   "metadata": {},
   "source": [
    "### g) Count plot on loan paying term"
   ]
  },
  {
   "cell_type": "code",
   "execution_count": 985,
   "id": "b2792cc1",
   "metadata": {},
   "outputs": [
    {
     "data": {
      "image/png": "[encoded data removed]",
      "text/plain": [
       "<Figure size 720x432 with 1 Axes>"
      ]
     },
     "metadata": {},
     "output_type": "display_data"
    }
   ],
   "source": [
    "plt.figure(figsize=(10,6),facecolor='g')\n",
    "\n",
    "ax = sns.countplot(x=\"term\",data=loan_data,hue='loan_status',palette='GnBu_d')\n",
    "ax.set_title('Loan Paying Term',fontsize=14,color='w')\n",
    "ax.set_xlabel('Loan Repayment Term',fontsize=14,color = 'w')\n",
    "ax.set_ylabel('Loan Application Count',fontsize=14,color = 'w')      \n",
    "ax.legend(bbox_to_anchor=(1, 1))\n",
    "plt.show()"
   ]
  },
  {
   "cell_type": "markdown",
   "id": "dd232ffb",
   "metadata": {},
   "source": [
    "### Applicants getting charged off are more in number who have taken 60 month tenure than 36. "
   ]
  },
  {
   "cell_type": "markdown",
   "id": "f52b21de",
   "metadata": {},
   "source": [
    "## 2. Bivariate Analysis"
   ]
  },
  {
   "cell_type": "markdown",
   "id": "c55e2d96",
   "metadata": {},
   "source": [
    "### a) Annual income vs charged_off_proportion"
   ]
  },
  {
   "cell_type": "code",
   "execution_count": 986,
   "id": "73ad28e1",
   "metadata": {},
   "outputs": [
    {
     "data": {
      "text/html": [
       "<div>\n",
       "<style scoped>\n",
       "    .dataframe tbody tr th:only-of-type {\n",
       "        vertical-align: middle;\n",
       "    }\n",
       "\n",
       "    .dataframe tbody tr th {\n",
       "        vertical-align: top;\n",
       "    }\n",
       "\n",
       "    .dataframe thead th {\n",
       "        text-align: right;\n",
       "    }\n",
       "</style>\n",
       "<table border=\"1\" class=\"dataframe\">\n",
       "  <thead>\n",
       "    <tr style=\"text-align: right;\">\n",
       "      <th>loan_status</th>\n",
       "      <th>annual_inc_category</th>\n",
       "      <th>Charged Off</th>\n",
       "      <th>Fully Paid</th>\n",
       "      <th>Total</th>\n",
       "      <th>Chargedoff_Proportion</th>\n",
       "    </tr>\n",
       "  </thead>\n",
       "  <tbody>\n",
       "    <tr>\n",
       "      <th>0</th>\n",
       "      <td>0-20000</td>\n",
       "      <td>237</td>\n",
       "      <td>943</td>\n",
       "      <td>1180</td>\n",
       "      <td>0.200847</td>\n",
       "    </tr>\n",
       "    <tr>\n",
       "      <th>1</th>\n",
       "      <td>20000-40000</td>\n",
       "      <td>1514</td>\n",
       "      <td>7004</td>\n",
       "      <td>8518</td>\n",
       "      <td>0.177741</td>\n",
       "    </tr>\n",
       "    <tr>\n",
       "      <th>2</th>\n",
       "      <td>40000-60000</td>\n",
       "      <td>1729</td>\n",
       "      <td>9534</td>\n",
       "      <td>11263</td>\n",
       "      <td>0.153511</td>\n",
       "    </tr>\n",
       "    <tr>\n",
       "      <th>3</th>\n",
       "      <td>60000-80000</td>\n",
       "      <td>1024</td>\n",
       "      <td>6597</td>\n",
       "      <td>7621</td>\n",
       "      <td>0.134366</td>\n",
       "    </tr>\n",
       "    <tr>\n",
       "      <th>4</th>\n",
       "      <td>80000 +</td>\n",
       "      <td>914</td>\n",
       "      <td>7158</td>\n",
       "      <td>8072</td>\n",
       "      <td>0.113231</td>\n",
       "    </tr>\n",
       "  </tbody>\n",
       "</table>\n",
       "</div>"
      ],
      "text/plain": [
       "loan_status annual_inc_category  Charged Off  Fully Paid  Total  \\\n",
       "0                       0-20000          237         943   1180   \n",
       "1                   20000-40000         1514        7004   8518   \n",
       "2                   40000-60000         1729        9534  11263   \n",
       "3                   60000-80000         1024        6597   7621   \n",
       "4                       80000 +          914        7158   8072   \n",
       "\n",
       "loan_status  Chargedoff_Proportion  \n",
       "0                         0.200847  \n",
       "1                         0.177741  \n",
       "2                         0.153511  \n",
       "3                         0.134366  \n",
       "4                         0.113231  "
      ]
     },
     "execution_count": 986,
     "metadata": {},
     "output_type": "execute_result"
    }
   ],
   "source": [
    "inc_range_vs_loan = loan_data.groupby(['annual_inc_category', 'loan_status']).loan_status.count().unstack().fillna(0).reset_index()\n",
    "inc_range_vs_loan['Total'] = inc_range_vs_loan['Charged Off'] + inc_range_vs_loan['Fully Paid'] \n",
    "inc_range_vs_loan['Chargedoff_Proportion'] = inc_range_vs_loan['Charged Off'] / inc_range_vs_loan['Total']\n",
    "inc_range_vs_loan.sort_values('Chargedoff_Proportion', ascending=False)"
   ]
  },
  {
   "cell_type": "code",
   "execution_count": 987,
   "id": "e464c313",
   "metadata": {},
   "outputs": [
    {
     "data": {
      "image/png": "[encoded data removed]",
      "text/plain": [
       "<Figure size 864x576 with 1 Axes>"
      ]
     },
     "metadata": {},
     "output_type": "display_data"
    }
   ],
   "source": [
    "fig, ax1 = plt.subplots(figsize=(12, 8),facecolor='g')\n",
    "\n",
    "ax1.set_title('Annual Income vs Chargedoff Proportion',fontsize=15,color = 'w')\n",
    "\n",
    "ax1=sns.barplot(x='annual_inc_category', y='Chargedoff_Proportion', data=inc_range_vs_loan)\n",
    "\n",
    "ax1.set_ylabel('Charged off Proportion',fontsize=14,color = 'w')\n",
    "ax1.set_xlabel('Annual Income',fontsize=14,color='w')\n",
    "\n",
    "plt.show()"
   ]
  },
  {
   "cell_type": "markdown",
   "id": "fd8e0454",
   "metadata": {},
   "source": [
    "### Observation:\n",
    "1. Income range of 80000+ are less likely to default\n",
    "2. Income range of 0 - 20000 are more likely to default\n",
    "3. Increase in annual income results in charged off proportion decreasing. High income bracket customers are less likely to default"
   ]
  },
  {
   "cell_type": "markdown",
   "id": "fb410185",
   "metadata": {},
   "source": [
    "### b) Purpose of loan vs charged_off_proportion"
   ]
  },
  {
   "cell_type": "code",
   "execution_count": 988,
   "id": "a238cc1b",
   "metadata": {},
   "outputs": [
    {
     "data": {
      "text/html": [
       "<div>\n",
       "<style scoped>\n",
       "    .dataframe tbody tr th:only-of-type {\n",
       "        vertical-align: middle;\n",
       "    }\n",
       "\n",
       "    .dataframe tbody tr th {\n",
       "        vertical-align: top;\n",
       "    }\n",
       "\n",
       "    .dataframe thead th {\n",
       "        text-align: right;\n",
       "    }\n",
       "</style>\n",
       "<table border=\"1\" class=\"dataframe\">\n",
       "  <thead>\n",
       "    <tr style=\"text-align: right;\">\n",
       "      <th>loan_status</th>\n",
       "      <th>purpose</th>\n",
       "      <th>Charged Off</th>\n",
       "      <th>Fully Paid</th>\n",
       "      <th>Total</th>\n",
       "      <th>Chargedoff_Proportion</th>\n",
       "    </tr>\n",
       "  </thead>\n",
       "  <tbody>\n",
       "    <tr>\n",
       "      <th>11</th>\n",
       "      <td>small_business</td>\n",
       "      <td>454</td>\n",
       "      <td>1169</td>\n",
       "      <td>1623</td>\n",
       "      <td>0.279729</td>\n",
       "    </tr>\n",
       "    <tr>\n",
       "      <th>10</th>\n",
       "      <td>renewable_energy</td>\n",
       "      <td>18</td>\n",
       "      <td>77</td>\n",
       "      <td>95</td>\n",
       "      <td>0.189474</td>\n",
       "    </tr>\n",
       "    <tr>\n",
       "      <th>3</th>\n",
       "      <td>educational</td>\n",
       "      <td>54</td>\n",
       "      <td>258</td>\n",
       "      <td>312</td>\n",
       "      <td>0.173077</td>\n",
       "    </tr>\n",
       "    <tr>\n",
       "      <th>8</th>\n",
       "      <td>moving</td>\n",
       "      <td>90</td>\n",
       "      <td>460</td>\n",
       "      <td>550</td>\n",
       "      <td>0.163636</td>\n",
       "    </tr>\n",
       "    <tr>\n",
       "      <th>9</th>\n",
       "      <td>other</td>\n",
       "      <td>605</td>\n",
       "      <td>3094</td>\n",
       "      <td>3699</td>\n",
       "      <td>0.163558</td>\n",
       "    </tr>\n",
       "    <tr>\n",
       "      <th>5</th>\n",
       "      <td>house</td>\n",
       "      <td>55</td>\n",
       "      <td>283</td>\n",
       "      <td>338</td>\n",
       "      <td>0.162722</td>\n",
       "    </tr>\n",
       "    <tr>\n",
       "      <th>7</th>\n",
       "      <td>medical</td>\n",
       "      <td>104</td>\n",
       "      <td>537</td>\n",
       "      <td>641</td>\n",
       "      <td>0.162246</td>\n",
       "    </tr>\n",
       "    <tr>\n",
       "      <th>2</th>\n",
       "      <td>debt_consolidation</td>\n",
       "      <td>2677</td>\n",
       "      <td>14628</td>\n",
       "      <td>17305</td>\n",
       "      <td>0.154695</td>\n",
       "    </tr>\n",
       "    <tr>\n",
       "      <th>12</th>\n",
       "      <td>vacation</td>\n",
       "      <td>52</td>\n",
       "      <td>313</td>\n",
       "      <td>365</td>\n",
       "      <td>0.142466</td>\n",
       "    </tr>\n",
       "    <tr>\n",
       "      <th>4</th>\n",
       "      <td>home_improvement</td>\n",
       "      <td>322</td>\n",
       "      <td>2234</td>\n",
       "      <td>2556</td>\n",
       "      <td>0.125978</td>\n",
       "    </tr>\n",
       "    <tr>\n",
       "      <th>0</th>\n",
       "      <td>car</td>\n",
       "      <td>159</td>\n",
       "      <td>1289</td>\n",
       "      <td>1448</td>\n",
       "      <td>0.109807</td>\n",
       "    </tr>\n",
       "    <tr>\n",
       "      <th>1</th>\n",
       "      <td>credit_card</td>\n",
       "      <td>519</td>\n",
       "      <td>4264</td>\n",
       "      <td>4783</td>\n",
       "      <td>0.108509</td>\n",
       "    </tr>\n",
       "    <tr>\n",
       "      <th>6</th>\n",
       "      <td>major_purchase</td>\n",
       "      <td>217</td>\n",
       "      <td>1829</td>\n",
       "      <td>2046</td>\n",
       "      <td>0.106061</td>\n",
       "    </tr>\n",
       "    <tr>\n",
       "      <th>13</th>\n",
       "      <td>wedding</td>\n",
       "      <td>92</td>\n",
       "      <td>801</td>\n",
       "      <td>893</td>\n",
       "      <td>0.103024</td>\n",
       "    </tr>\n",
       "  </tbody>\n",
       "</table>\n",
       "</div>"
      ],
      "text/plain": [
       "loan_status             purpose  Charged Off  Fully Paid  Total  \\\n",
       "11               small_business          454        1169   1623   \n",
       "10             renewable_energy           18          77     95   \n",
       "3                   educational           54         258    312   \n",
       "8                        moving           90         460    550   \n",
       "9                         other          605        3094   3699   \n",
       "5                         house           55         283    338   \n",
       "7                       medical          104         537    641   \n",
       "2            debt_consolidation         2677       14628  17305   \n",
       "12                     vacation           52         313    365   \n",
       "4              home_improvement          322        2234   2556   \n",
       "0                           car          159        1289   1448   \n",
       "1                   credit_card          519        4264   4783   \n",
       "6                major_purchase          217        1829   2046   \n",
       "13                      wedding           92         801    893   \n",
       "\n",
       "loan_status  Chargedoff_Proportion  \n",
       "11                        0.279729  \n",
       "10                        0.189474  \n",
       "3                         0.173077  \n",
       "8                         0.163636  \n",
       "9                         0.163558  \n",
       "5                         0.162722  \n",
       "7                         0.162246  \n",
       "2                         0.154695  \n",
       "12                        0.142466  \n",
       "4                         0.125978  \n",
       "0                         0.109807  \n",
       "1                         0.108509  \n",
       "6                         0.106061  \n",
       "13                        0.103024  "
      ]
     },
     "execution_count": 988,
     "metadata": {},
     "output_type": "execute_result"
    }
   ],
   "source": [
    "purpose_vs_loan = loan_data.groupby(['purpose', 'loan_status']).loan_status.count().unstack().fillna(0).reset_index()\n",
    "purpose_vs_loan['Total'] = purpose_vs_loan['Charged Off'] + purpose_vs_loan['Fully Paid'] \n",
    "purpose_vs_loan['Chargedoff_Proportion'] = purpose_vs_loan['Charged Off'] / purpose_vs_loan['Total']\n",
    "purpose_vs_loan.sort_values('Chargedoff_Proportion', ascending=False)\n"
   ]
  },
  {
   "cell_type": "code",
   "execution_count": 989,
   "id": "f58807b6",
   "metadata": {
    "scrolled": true
   },
   "outputs": [
    {
     "data": {
      "image/png": "[encoded data removed]",
      "text/plain": [
       "<Figure size 1008x576 with 1 Axes>"
      ]
     },
     "metadata": {},
     "output_type": "display_data"
    }
   ],
   "source": [
    "fig, ax1 = plt.subplots(figsize=(14, 8),facecolor='g')\n",
    "\n",
    "ax1.set_title('Purpose of Loans vs Chargedoff Proportion',fontsize=15,color = 'w')\n",
    "\n",
    "ax1=sns.barplot(y='purpose', x='Chargedoff_Proportion', data=purpose_vs_loan)\n",
    "\n",
    "ax1.set_ylabel('Purpose of Loans',fontsize=14,color='w')\n",
    "ax1.set_xlabel('Chargedoff Proportion',fontsize=14,color = 'w')\n",
    "\n",
    "plt.show()"
   ]
  },
  {
   "cell_type": "markdown",
   "id": "cd72e2db",
   "metadata": {},
   "source": [
    "### Observation:\n",
    "1. Small business folks are more likely to default\n"
   ]
  },
  {
   "cell_type": "markdown",
   "id": "93a967ec",
   "metadata": {},
   "source": [
    "### c) Grade vs charged_off_proportion"
   ]
  },
  {
   "cell_type": "code",
   "execution_count": 990,
   "id": "3f0a25a0",
   "metadata": {},
   "outputs": [
    {
     "data": {
      "text/html": [
       "<div>\n",
       "<style scoped>\n",
       "    .dataframe tbody tr th:only-of-type {\n",
       "        vertical-align: middle;\n",
       "    }\n",
       "\n",
       "    .dataframe tbody tr th {\n",
       "        vertical-align: top;\n",
       "    }\n",
       "\n",
       "    .dataframe thead th {\n",
       "        text-align: right;\n",
       "    }\n",
       "</style>\n",
       "<table border=\"1\" class=\"dataframe\">\n",
       "  <thead>\n",
       "    <tr style=\"text-align: right;\">\n",
       "      <th>loan_status</th>\n",
       "      <th>grade</th>\n",
       "      <th>Charged Off</th>\n",
       "      <th>Fully Paid</th>\n",
       "      <th>Total</th>\n",
       "      <th>Chargedoff_Proportion</th>\n",
       "    </tr>\n",
       "  </thead>\n",
       "  <tbody>\n",
       "    <tr>\n",
       "      <th>6</th>\n",
       "      <td>G</td>\n",
       "      <td>95</td>\n",
       "      <td>166</td>\n",
       "      <td>261</td>\n",
       "      <td>0.363985</td>\n",
       "    </tr>\n",
       "    <tr>\n",
       "      <th>5</th>\n",
       "      <td>F</td>\n",
       "      <td>289</td>\n",
       "      <td>597</td>\n",
       "      <td>886</td>\n",
       "      <td>0.326185</td>\n",
       "    </tr>\n",
       "    <tr>\n",
       "      <th>4</th>\n",
       "      <td>E</td>\n",
       "      <td>660</td>\n",
       "      <td>1788</td>\n",
       "      <td>2448</td>\n",
       "      <td>0.269608</td>\n",
       "    </tr>\n",
       "    <tr>\n",
       "      <th>3</th>\n",
       "      <td>D</td>\n",
       "      <td>1080</td>\n",
       "      <td>3755</td>\n",
       "      <td>4835</td>\n",
       "      <td>0.223371</td>\n",
       "    </tr>\n",
       "    <tr>\n",
       "      <th>2</th>\n",
       "      <td>C</td>\n",
       "      <td>1325</td>\n",
       "      <td>6156</td>\n",
       "      <td>7481</td>\n",
       "      <td>0.177115</td>\n",
       "    </tr>\n",
       "    <tr>\n",
       "      <th>1</th>\n",
       "      <td>B</td>\n",
       "      <td>1376</td>\n",
       "      <td>9721</td>\n",
       "      <td>11097</td>\n",
       "      <td>0.123997</td>\n",
       "    </tr>\n",
       "    <tr>\n",
       "      <th>0</th>\n",
       "      <td>A</td>\n",
       "      <td>593</td>\n",
       "      <td>9053</td>\n",
       "      <td>9646</td>\n",
       "      <td>0.061476</td>\n",
       "    </tr>\n",
       "  </tbody>\n",
       "</table>\n",
       "</div>"
      ],
      "text/plain": [
       "loan_status grade  Charged Off  Fully Paid  Total  Chargedoff_Proportion\n",
       "6               G           95         166    261               0.363985\n",
       "5               F          289         597    886               0.326185\n",
       "4               E          660        1788   2448               0.269608\n",
       "3               D         1080        3755   4835               0.223371\n",
       "2               C         1325        6156   7481               0.177115\n",
       "1               B         1376        9721  11097               0.123997\n",
       "0               A          593        9053   9646               0.061476"
      ]
     },
     "execution_count": 990,
     "metadata": {},
     "output_type": "execute_result"
    }
   ],
   "source": [
    "grade_vs_loan = loan_data.groupby(['grade', 'loan_status']).loan_status.count().unstack().fillna(0).reset_index()\n",
    "grade_vs_loan['Total'] = grade_vs_loan['Charged Off'] + grade_vs_loan['Fully Paid'] \n",
    "grade_vs_loan['Chargedoff_Proportion'] = grade_vs_loan['Charged Off'] / grade_vs_loan['Total']\n",
    "grade_vs_loan.sort_values('Chargedoff_Proportion', ascending=False)"
   ]
  },
  {
   "cell_type": "code",
   "execution_count": 991,
   "id": "e622c1ca",
   "metadata": {},
   "outputs": [
    {
     "data": {
      "image/png": "[encoded data removed]",
      "text/plain": [
       "<Figure size 1008x576 with 1 Axes>"
      ]
     },
     "metadata": {},
     "output_type": "display_data"
    }
   ],
   "source": [
    "fig, ax1 = plt.subplots(figsize=(14, 8),facecolor='g')\n",
    "\n",
    "ax1.set_title('Grades vs Chargedoff Proportion',fontsize=15,color='w')\n",
    "\n",
    "ax1=sns.barplot(x='grade', y='Chargedoff_Proportion', data=grade_vs_loan)\n",
    "\n",
    "ax1.set_xlabel('Grades',fontsize=14,color='w')\n",
    "ax1.set_ylabel('Chargedoff Proportion',fontsize=14,color ='w')\n",
    "\n",
    "plt.show()"
   ]
  },
  {
   "cell_type": "markdown",
   "id": "24d60266",
   "metadata": {},
   "source": [
    "### Observation:\n",
    "1. Grade 'A' are very low on defaulter proportion\n",
    "2. Grade 'F' and 'G' are high on defaulter proportion\n",
    "3. Defaulter proportion is increasing with increasing grades \n"
   ]
  },
  {
   "cell_type": "markdown",
   "id": "471b2a3d",
   "metadata": {},
   "source": [
    "### d) Sub-Grade vs charged_off_proportion"
   ]
  },
  {
   "cell_type": "code",
   "execution_count": 992,
   "id": "3bbdc33c",
   "metadata": {},
   "outputs": [
    {
     "data": {
      "text/html": [
       "<div>\n",
       "<style scoped>\n",
       "    .dataframe tbody tr th:only-of-type {\n",
       "        vertical-align: middle;\n",
       "    }\n",
       "\n",
       "    .dataframe tbody tr th {\n",
       "        vertical-align: top;\n",
       "    }\n",
       "\n",
       "    .dataframe thead th {\n",
       "        text-align: right;\n",
       "    }\n",
       "</style>\n",
       "<table border=\"1\" class=\"dataframe\">\n",
       "  <thead>\n",
       "    <tr style=\"text-align: right;\">\n",
       "      <th>loan_status</th>\n",
       "      <th>sub_grade</th>\n",
       "      <th>Charged Off</th>\n",
       "      <th>Fully Paid</th>\n",
       "      <th>Total</th>\n",
       "      <th>Chargedoff_Proportion</th>\n",
       "    </tr>\n",
       "  </thead>\n",
       "  <tbody>\n",
       "    <tr>\n",
       "      <th>29</th>\n",
       "      <td>F5</td>\n",
       "      <td>50</td>\n",
       "      <td>48</td>\n",
       "      <td>98</td>\n",
       "      <td>0.510204</td>\n",
       "    </tr>\n",
       "    <tr>\n",
       "      <th>32</th>\n",
       "      <td>G3</td>\n",
       "      <td>19</td>\n",
       "      <td>21</td>\n",
       "      <td>40</td>\n",
       "      <td>0.475000</td>\n",
       "    </tr>\n",
       "    <tr>\n",
       "      <th>34</th>\n",
       "      <td>G5</td>\n",
       "      <td>9</td>\n",
       "      <td>13</td>\n",
       "      <td>22</td>\n",
       "      <td>0.409091</td>\n",
       "    </tr>\n",
       "    <tr>\n",
       "      <th>31</th>\n",
       "      <td>G2</td>\n",
       "      <td>26</td>\n",
       "      <td>40</td>\n",
       "      <td>66</td>\n",
       "      <td>0.393939</td>\n",
       "    </tr>\n",
       "    <tr>\n",
       "      <th>30</th>\n",
       "      <td>G1</td>\n",
       "      <td>30</td>\n",
       "      <td>58</td>\n",
       "      <td>88</td>\n",
       "      <td>0.340909</td>\n",
       "    </tr>\n",
       "    <tr>\n",
       "      <th>28</th>\n",
       "      <td>F4</td>\n",
       "      <td>46</td>\n",
       "      <td>93</td>\n",
       "      <td>139</td>\n",
       "      <td>0.330935</td>\n",
       "    </tr>\n",
       "    <tr>\n",
       "      <th>26</th>\n",
       "      <td>F2</td>\n",
       "      <td>67</td>\n",
       "      <td>150</td>\n",
       "      <td>217</td>\n",
       "      <td>0.308756</td>\n",
       "    </tr>\n",
       "    <tr>\n",
       "      <th>23</th>\n",
       "      <td>E4</td>\n",
       "      <td>117</td>\n",
       "      <td>275</td>\n",
       "      <td>392</td>\n",
       "      <td>0.298469</td>\n",
       "    </tr>\n",
       "    <tr>\n",
       "      <th>27</th>\n",
       "      <td>F3</td>\n",
       "      <td>46</td>\n",
       "      <td>110</td>\n",
       "      <td>156</td>\n",
       "      <td>0.294872</td>\n",
       "    </tr>\n",
       "    <tr>\n",
       "      <th>25</th>\n",
       "      <td>F1</td>\n",
       "      <td>80</td>\n",
       "      <td>196</td>\n",
       "      <td>276</td>\n",
       "      <td>0.289855</td>\n",
       "    </tr>\n",
       "    <tr>\n",
       "      <th>24</th>\n",
       "      <td>E5</td>\n",
       "      <td>99</td>\n",
       "      <td>246</td>\n",
       "      <td>345</td>\n",
       "      <td>0.286957</td>\n",
       "    </tr>\n",
       "    <tr>\n",
       "      <th>20</th>\n",
       "      <td>E1</td>\n",
       "      <td>185</td>\n",
       "      <td>490</td>\n",
       "      <td>675</td>\n",
       "      <td>0.274074</td>\n",
       "    </tr>\n",
       "    <tr>\n",
       "      <th>21</th>\n",
       "      <td>E2</td>\n",
       "      <td>150</td>\n",
       "      <td>415</td>\n",
       "      <td>565</td>\n",
       "      <td>0.265487</td>\n",
       "    </tr>\n",
       "    <tr>\n",
       "      <th>19</th>\n",
       "      <td>D5</td>\n",
       "      <td>200</td>\n",
       "      <td>589</td>\n",
       "      <td>789</td>\n",
       "      <td>0.253485</td>\n",
       "    </tr>\n",
       "    <tr>\n",
       "      <th>33</th>\n",
       "      <td>G4</td>\n",
       "      <td>11</td>\n",
       "      <td>34</td>\n",
       "      <td>45</td>\n",
       "      <td>0.244444</td>\n",
       "    </tr>\n",
       "    <tr>\n",
       "      <th>18</th>\n",
       "      <td>D4</td>\n",
       "      <td>209</td>\n",
       "      <td>662</td>\n",
       "      <td>871</td>\n",
       "      <td>0.239954</td>\n",
       "    </tr>\n",
       "    <tr>\n",
       "      <th>22</th>\n",
       "      <td>E3</td>\n",
       "      <td>109</td>\n",
       "      <td>362</td>\n",
       "      <td>471</td>\n",
       "      <td>0.231423</td>\n",
       "    </tr>\n",
       "    <tr>\n",
       "      <th>17</th>\n",
       "      <td>D3</td>\n",
       "      <td>246</td>\n",
       "      <td>818</td>\n",
       "      <td>1064</td>\n",
       "      <td>0.231203</td>\n",
       "    </tr>\n",
       "    <tr>\n",
       "      <th>16</th>\n",
       "      <td>D2</td>\n",
       "      <td>264</td>\n",
       "      <td>959</td>\n",
       "      <td>1223</td>\n",
       "      <td>0.215863</td>\n",
       "    </tr>\n",
       "    <tr>\n",
       "      <th>12</th>\n",
       "      <td>C3</td>\n",
       "      <td>267</td>\n",
       "      <td>1152</td>\n",
       "      <td>1419</td>\n",
       "      <td>0.188161</td>\n",
       "    </tr>\n",
       "    <tr>\n",
       "      <th>14</th>\n",
       "      <td>C5</td>\n",
       "      <td>205</td>\n",
       "      <td>891</td>\n",
       "      <td>1096</td>\n",
       "      <td>0.187044</td>\n",
       "    </tr>\n",
       "    <tr>\n",
       "      <th>15</th>\n",
       "      <td>D1</td>\n",
       "      <td>161</td>\n",
       "      <td>727</td>\n",
       "      <td>888</td>\n",
       "      <td>0.181306</td>\n",
       "    </tr>\n",
       "    <tr>\n",
       "      <th>13</th>\n",
       "      <td>C4</td>\n",
       "      <td>209</td>\n",
       "      <td>946</td>\n",
       "      <td>1155</td>\n",
       "      <td>0.180952</td>\n",
       "    </tr>\n",
       "    <tr>\n",
       "      <th>11</th>\n",
       "      <td>C2</td>\n",
       "      <td>316</td>\n",
       "      <td>1531</td>\n",
       "      <td>1847</td>\n",
       "      <td>0.171088</td>\n",
       "    </tr>\n",
       "    <tr>\n",
       "      <th>10</th>\n",
       "      <td>C1</td>\n",
       "      <td>328</td>\n",
       "      <td>1636</td>\n",
       "      <td>1964</td>\n",
       "      <td>0.167006</td>\n",
       "    </tr>\n",
       "    <tr>\n",
       "      <th>9</th>\n",
       "      <td>B5</td>\n",
       "      <td>348</td>\n",
       "      <td>2144</td>\n",
       "      <td>2492</td>\n",
       "      <td>0.139647</td>\n",
       "    </tr>\n",
       "    <tr>\n",
       "      <th>8</th>\n",
       "      <td>B4</td>\n",
       "      <td>319</td>\n",
       "      <td>2015</td>\n",
       "      <td>2334</td>\n",
       "      <td>0.136675</td>\n",
       "    </tr>\n",
       "    <tr>\n",
       "      <th>7</th>\n",
       "      <td>B3</td>\n",
       "      <td>326</td>\n",
       "      <td>2328</td>\n",
       "      <td>2654</td>\n",
       "      <td>0.122833</td>\n",
       "    </tr>\n",
       "    <tr>\n",
       "      <th>6</th>\n",
       "      <td>B2</td>\n",
       "      <td>217</td>\n",
       "      <td>1682</td>\n",
       "      <td>1899</td>\n",
       "      <td>0.114271</td>\n",
       "    </tr>\n",
       "    <tr>\n",
       "      <th>5</th>\n",
       "      <td>B1</td>\n",
       "      <td>166</td>\n",
       "      <td>1552</td>\n",
       "      <td>1718</td>\n",
       "      <td>0.096624</td>\n",
       "    </tr>\n",
       "    <tr>\n",
       "      <th>4</th>\n",
       "      <td>A5</td>\n",
       "      <td>213</td>\n",
       "      <td>2386</td>\n",
       "      <td>2599</td>\n",
       "      <td>0.081955</td>\n",
       "    </tr>\n",
       "    <tr>\n",
       "      <th>3</th>\n",
       "      <td>A4</td>\n",
       "      <td>173</td>\n",
       "      <td>2576</td>\n",
       "      <td>2749</td>\n",
       "      <td>0.062932</td>\n",
       "    </tr>\n",
       "    <tr>\n",
       "      <th>2</th>\n",
       "      <td>A3</td>\n",
       "      <td>103</td>\n",
       "      <td>1646</td>\n",
       "      <td>1749</td>\n",
       "      <td>0.058891</td>\n",
       "    </tr>\n",
       "    <tr>\n",
       "      <th>1</th>\n",
       "      <td>A2</td>\n",
       "      <td>74</td>\n",
       "      <td>1377</td>\n",
       "      <td>1451</td>\n",
       "      <td>0.050999</td>\n",
       "    </tr>\n",
       "    <tr>\n",
       "      <th>0</th>\n",
       "      <td>A1</td>\n",
       "      <td>30</td>\n",
       "      <td>1068</td>\n",
       "      <td>1098</td>\n",
       "      <td>0.027322</td>\n",
       "    </tr>\n",
       "  </tbody>\n",
       "</table>\n",
       "</div>"
      ],
      "text/plain": [
       "loan_status sub_grade  Charged Off  Fully Paid  Total  Chargedoff_Proportion\n",
       "29                 F5           50          48     98               0.510204\n",
       "32                 G3           19          21     40               0.475000\n",
       "34                 G5            9          13     22               0.409091\n",
       "31                 G2           26          40     66               0.393939\n",
       "30                 G1           30          58     88               0.340909\n",
       "28                 F4           46          93    139               0.330935\n",
       "26                 F2           67         150    217               0.308756\n",
       "23                 E4          117         275    392               0.298469\n",
       "27                 F3           46         110    156               0.294872\n",
       "25                 F1           80         196    276               0.289855\n",
       "24                 E5           99         246    345               0.286957\n",
       "20                 E1          185         490    675               0.274074\n",
       "21                 E2          150         415    565               0.265487\n",
       "19                 D5          200         589    789               0.253485\n",
       "33                 G4           11          34     45               0.244444\n",
       "18                 D4          209         662    871               0.239954\n",
       "22                 E3          109         362    471               0.231423\n",
       "17                 D3          246         818   1064               0.231203\n",
       "16                 D2          264         959   1223               0.215863\n",
       "12                 C3          267        1152   1419               0.188161\n",
       "14                 C5          205         891   1096               0.187044\n",
       "15                 D1          161         727    888               0.181306\n",
       "13                 C4          209         946   1155               0.180952\n",
       "11                 C2          316        1531   1847               0.171088\n",
       "10                 C1          328        1636   1964               0.167006\n",
       "9                  B5          348        2144   2492               0.139647\n",
       "8                  B4          319        2015   2334               0.136675\n",
       "7                  B3          326        2328   2654               0.122833\n",
       "6                  B2          217        1682   1899               0.114271\n",
       "5                  B1          166        1552   1718               0.096624\n",
       "4                  A5          213        2386   2599               0.081955\n",
       "3                  A4          173        2576   2749               0.062932\n",
       "2                  A3          103        1646   1749               0.058891\n",
       "1                  A2           74        1377   1451               0.050999\n",
       "0                  A1           30        1068   1098               0.027322"
      ]
     },
     "execution_count": 992,
     "metadata": {},
     "output_type": "execute_result"
    }
   ],
   "source": [
    "grade_vs_loan = loan_data.groupby(['sub_grade', 'loan_status']).loan_status.count().unstack().fillna(0).reset_index()\n",
    "grade_vs_loan['Total'] = grade_vs_loan['Charged Off'] + grade_vs_loan['Fully Paid'] \n",
    "grade_vs_loan['Chargedoff_Proportion'] = grade_vs_loan['Charged Off'] / grade_vs_loan['Total']\n",
    "grade_vs_loan.sort_values('Chargedoff_Proportion', ascending=False)"
   ]
  },
  {
   "cell_type": "code",
   "execution_count": 993,
   "id": "cb1b8b12",
   "metadata": {
    "scrolled": true
   },
   "outputs": [
    {
     "data": {
      "image/png": "[encoded data removed]",
      "text/plain": [
       "<Figure size 1008x576 with 1 Axes>"
      ]
     },
     "metadata": {},
     "output_type": "display_data"
    }
   ],
   "source": [
    "fig, ax1 = plt.subplots(figsize=(14, 8),facecolor='g')\n",
    "ax1.set_title('Sub Grades vs Chargedoff Proportion',fontsize=15,color='w')\n",
    "ax1=sns.barplot(x='sub_grade', y='Chargedoff_Proportion', data=grade_vs_loan)\n",
    "ax1.set_xlabel('Sub Grades',fontsize=14,color='w')\n",
    "ax1.set_ylabel('Chargedoff Proportion',fontsize=14,color = 'w')\n",
    "plt.show()"
   ]
  },
  {
   "cell_type": "markdown",
   "id": "09fb96d6",
   "metadata": {},
   "source": [
    "### Observation:\n",
    "1. Sub Grades of \"A\" are very less likely to charged off.\n",
    "2. Sub Grades of \"F\" and \"G\" are more likely to charged off.\n",
    "3. Defaulter proportion is increasing with sub grades moving from sub grades of \"A\" towards sub grades of \"G\"\n"
   ]
  },
  {
   "cell_type": "markdown",
   "id": "fb052418",
   "metadata": {},
   "source": [
    "### e) Interest rate vs charged_off_proportion"
   ]
  },
  {
   "cell_type": "code",
   "execution_count": 994,
   "id": "e47cd51d",
   "metadata": {},
   "outputs": [
    {
     "data": {
      "text/html": [
       "<div>\n",
       "<style scoped>\n",
       "    .dataframe tbody tr th:only-of-type {\n",
       "        vertical-align: middle;\n",
       "    }\n",
       "\n",
       "    .dataframe tbody tr th {\n",
       "        vertical-align: top;\n",
       "    }\n",
       "\n",
       "    .dataframe thead th {\n",
       "        text-align: right;\n",
       "    }\n",
       "</style>\n",
       "<table border=\"1\" class=\"dataframe\">\n",
       "  <thead>\n",
       "    <tr style=\"text-align: right;\">\n",
       "      <th>loan_status</th>\n",
       "      <th>int_rate_category</th>\n",
       "      <th>Charged Off</th>\n",
       "      <th>Fully Paid</th>\n",
       "      <th>Total</th>\n",
       "      <th>Chargedoff_Proportion</th>\n",
       "    </tr>\n",
       "  </thead>\n",
       "  <tbody>\n",
       "    <tr>\n",
       "      <th>3</th>\n",
       "      <td>16 +</td>\n",
       "      <td>1192</td>\n",
       "      <td>3131</td>\n",
       "      <td>4323</td>\n",
       "      <td>0.275734</td>\n",
       "    </tr>\n",
       "    <tr>\n",
       "      <th>2</th>\n",
       "      <td>12.5-16</td>\n",
       "      <td>1951</td>\n",
       "      <td>8978</td>\n",
       "      <td>10929</td>\n",
       "      <td>0.178516</td>\n",
       "    </tr>\n",
       "    <tr>\n",
       "      <th>1</th>\n",
       "      <td>10-13</td>\n",
       "      <td>1195</td>\n",
       "      <td>7710</td>\n",
       "      <td>8905</td>\n",
       "      <td>0.134194</td>\n",
       "    </tr>\n",
       "    <tr>\n",
       "      <th>0</th>\n",
       "      <td>0-10</td>\n",
       "      <td>812</td>\n",
       "      <td>11012</td>\n",
       "      <td>11824</td>\n",
       "      <td>0.068674</td>\n",
       "    </tr>\n",
       "  </tbody>\n",
       "</table>\n",
       "</div>"
      ],
      "text/plain": [
       "loan_status int_rate_category  Charged Off  Fully Paid  Total  \\\n",
       "3                        16 +         1192        3131   4323   \n",
       "2                     12.5-16         1951        8978  10929   \n",
       "1                       10-13         1195        7710   8905   \n",
       "0                        0-10          812       11012  11824   \n",
       "\n",
       "loan_status  Chargedoff_Proportion  \n",
       "3                         0.275734  \n",
       "2                         0.178516  \n",
       "1                         0.134194  \n",
       "0                         0.068674  "
      ]
     },
     "execution_count": 994,
     "metadata": {},
     "output_type": "execute_result"
    }
   ],
   "source": [
    "interest_vs_loan = loan_data.groupby(['int_rate_category', 'loan_status']).loan_status.count().unstack().fillna(0).reset_index()\n",
    "interest_vs_loan['Total'] = interest_vs_loan['Charged Off'] + interest_vs_loan['Fully Paid'] \n",
    "interest_vs_loan['Chargedoff_Proportion'] = interest_vs_loan['Charged Off'] / interest_vs_loan['Total']\n",
    "interest_vs_loan.sort_values('Chargedoff_Proportion', ascending=False)"
   ]
  },
  {
   "cell_type": "code",
   "execution_count": 995,
   "id": "37f25e18",
   "metadata": {},
   "outputs": [
    {
     "data": {
      "image/png": "[encoded data removed]",
      "text/plain": [
       "<Figure size 864x576 with 1 Axes>"
      ]
     },
     "metadata": {},
     "output_type": "display_data"
    }
   ],
   "source": [
    "fig, ax1 = plt.subplots(figsize=(12, 8),facecolor='g')\n",
    "\n",
    "ax1.set_title('Interest Rate vs Chargedoff Proportion',fontsize=15,color='w')\n",
    "\n",
    "ax1=sns.barplot(x='int_rate_category', y='Chargedoff_Proportion', data=interest_vs_loan)\n",
    "\n",
    "ax1.set_xlabel('Interest Rate',fontsize=14,color='w')\n",
    "ax1.set_ylabel('Chargedoff Proportion',fontsize=14,color = 'w')\n",
    "\n",
    "plt.show()"
   ]
  },
  {
   "cell_type": "markdown",
   "id": "d0d1b402",
   "metadata": {},
   "source": [
    "### Observation:\n",
    "1. Interest rates more than 16% are more likely to default\n",
    "2. Interest rates less than 10% are less likely to default\n",
    "3. Defaulter proportion is increasing with higher interest rates\n"
   ]
  },
  {
   "cell_type": "markdown",
   "id": "23217093",
   "metadata": {},
   "source": [
    "### f) Employment length vs charged_off_proportion"
   ]
  },
  {
   "cell_type": "code",
   "execution_count": 996,
   "id": "69304aee",
   "metadata": {},
   "outputs": [
    {
     "data": {
      "text/html": [
       "<div>\n",
       "<style scoped>\n",
       "    .dataframe tbody tr th:only-of-type {\n",
       "        vertical-align: middle;\n",
       "    }\n",
       "\n",
       "    .dataframe tbody tr th {\n",
       "        vertical-align: top;\n",
       "    }\n",
       "\n",
       "    .dataframe thead th {\n",
       "        text-align: right;\n",
       "    }\n",
       "</style>\n",
       "<table border=\"1\" class=\"dataframe\">\n",
       "  <thead>\n",
       "    <tr style=\"text-align: right;\">\n",
       "      <th>loan_status</th>\n",
       "      <th>emp_length</th>\n",
       "      <th>Charged Off</th>\n",
       "      <th>Fully Paid</th>\n",
       "      <th>Total</th>\n",
       "      <th>Chargedoff_Proportion</th>\n",
       "    </tr>\n",
       "  </thead>\n",
       "  <tbody>\n",
       "    <tr>\n",
       "      <th>1</th>\n",
       "      <td>10</td>\n",
       "      <td>1495</td>\n",
       "      <td>7407</td>\n",
       "      <td>8902</td>\n",
       "      <td>0.167940</td>\n",
       "    </tr>\n",
       "    <tr>\n",
       "      <th>7</th>\n",
       "      <td>7</td>\n",
       "      <td>252</td>\n",
       "      <td>1392</td>\n",
       "      <td>1644</td>\n",
       "      <td>0.153285</td>\n",
       "    </tr>\n",
       "    <tr>\n",
       "      <th>5</th>\n",
       "      <td>5</td>\n",
       "      <td>441</td>\n",
       "      <td>2603</td>\n",
       "      <td>3044</td>\n",
       "      <td>0.144875</td>\n",
       "    </tr>\n",
       "    <tr>\n",
       "      <th>0</th>\n",
       "      <td>1</td>\n",
       "      <td>1066</td>\n",
       "      <td>6304</td>\n",
       "      <td>7370</td>\n",
       "      <td>0.144640</td>\n",
       "    </tr>\n",
       "    <tr>\n",
       "      <th>8</th>\n",
       "      <td>8</td>\n",
       "      <td>194</td>\n",
       "      <td>1149</td>\n",
       "      <td>1343</td>\n",
       "      <td>0.144453</td>\n",
       "    </tr>\n",
       "    <tr>\n",
       "      <th>6</th>\n",
       "      <td>6</td>\n",
       "      <td>294</td>\n",
       "      <td>1779</td>\n",
       "      <td>2073</td>\n",
       "      <td>0.141823</td>\n",
       "    </tr>\n",
       "    <tr>\n",
       "      <th>3</th>\n",
       "      <td>3</td>\n",
       "      <td>536</td>\n",
       "      <td>3288</td>\n",
       "      <td>3824</td>\n",
       "      <td>0.140167</td>\n",
       "    </tr>\n",
       "    <tr>\n",
       "      <th>4</th>\n",
       "      <td>4</td>\n",
       "      <td>443</td>\n",
       "      <td>2757</td>\n",
       "      <td>3200</td>\n",
       "      <td>0.138437</td>\n",
       "    </tr>\n",
       "    <tr>\n",
       "      <th>2</th>\n",
       "      <td>2</td>\n",
       "      <td>547</td>\n",
       "      <td>3554</td>\n",
       "      <td>4101</td>\n",
       "      <td>0.133382</td>\n",
       "    </tr>\n",
       "    <tr>\n",
       "      <th>9</th>\n",
       "      <td>9</td>\n",
       "      <td>150</td>\n",
       "      <td>1003</td>\n",
       "      <td>1153</td>\n",
       "      <td>0.130095</td>\n",
       "    </tr>\n",
       "  </tbody>\n",
       "</table>\n",
       "</div>"
      ],
      "text/plain": [
       "loan_status emp_length  Charged Off  Fully Paid  Total  Chargedoff_Proportion\n",
       "1                   10         1495        7407   8902               0.167940\n",
       "7                    7          252        1392   1644               0.153285\n",
       "5                    5          441        2603   3044               0.144875\n",
       "0                    1         1066        6304   7370               0.144640\n",
       "8                    8          194        1149   1343               0.144453\n",
       "6                    6          294        1779   2073               0.141823\n",
       "3                    3          536        3288   3824               0.140167\n",
       "4                    4          443        2757   3200               0.138437\n",
       "2                    2          547        3554   4101               0.133382\n",
       "9                    9          150        1003   1153               0.130095"
      ]
     },
     "execution_count": 996,
     "metadata": {},
     "output_type": "execute_result"
    }
   ],
   "source": [
    "emplen_vs_loan = loan_data.groupby(['emp_length', 'loan_status']).loan_status.count().unstack().fillna(0).reset_index()\n",
    "emplen_vs_loan['Total'] = emplen_vs_loan['Charged Off'] + emplen_vs_loan['Fully Paid'] \n",
    "emplen_vs_loan['Chargedoff_Proportion'] = emplen_vs_loan['Charged Off'] / emplen_vs_loan['Total']\n",
    "emplen_vs_loan.sort_values('Chargedoff_Proportion', ascending=False)"
   ]
  },
  {
   "cell_type": "code",
   "execution_count": 997,
   "id": "6e610aa4",
   "metadata": {},
   "outputs": [
    {
     "data": {
      "image/png": "[encoded data removed]",
      "text/plain": [
       "<Figure size 864x576 with 1 Axes>"
      ]
     },
     "metadata": {},
     "output_type": "display_data"
    }
   ],
   "source": [
    "fig, ax1 = plt.subplots(figsize=(12, 8),facecolor='g')\n",
    "\n",
    "ax1.set_title('Employment Length vs Chargedoff Proportion',fontsize=15,color='w')\n",
    "\n",
    "ax1=sns.barplot(x='emp_length', y='Chargedoff_Proportion', data=emplen_vs_loan)\n",
    "\n",
    "ax1.set_xlabel('Employment Length',fontsize=14,color='w')\n",
    "ax1.set_ylabel('Chargedoff Proportion',fontsize=14,color = 'w')\n",
    "\n",
    "plt.show()"
   ]
  },
  {
   "cell_type": "markdown",
   "id": "871251de",
   "metadata": {},
   "source": [
    "### Observation:\n",
    "1. Applicants who are not working or having less than one year of experience are more likely to default (No source of income increases the chance of default)"
   ]
  },
  {
   "cell_type": "markdown",
   "id": "a4c41985",
   "metadata": {},
   "source": [
    "### g) Address state vs charged_off_proportion"
   ]
  },
  {
   "cell_type": "code",
   "execution_count": 998,
   "id": "c5d3e9e5",
   "metadata": {},
   "outputs": [
    {
     "data": {
      "text/html": [
       "<div>\n",
       "<style scoped>\n",
       "    .dataframe tbody tr th:only-of-type {\n",
       "        vertical-align: middle;\n",
       "    }\n",
       "\n",
       "    .dataframe tbody tr th {\n",
       "        vertical-align: top;\n",
       "    }\n",
       "\n",
       "    .dataframe thead th {\n",
       "        text-align: right;\n",
       "    }\n",
       "</style>\n",
       "<table border=\"1\" class=\"dataframe\">\n",
       "  <thead>\n",
       "    <tr style=\"text-align: right;\">\n",
       "      <th>loan_status</th>\n",
       "      <th>addr_state</th>\n",
       "      <th>Charged Off</th>\n",
       "      <th>Fully Paid</th>\n",
       "      <th>Total</th>\n",
       "      <th>Chargedoff_Proportion</th>\n",
       "    </tr>\n",
       "  </thead>\n",
       "  <tbody>\n",
       "    <tr>\n",
       "      <th>28</th>\n",
       "      <td>NE</td>\n",
       "      <td>3.0</td>\n",
       "      <td>2.0</td>\n",
       "      <td>5.0</td>\n",
       "      <td>0.600000</td>\n",
       "    </tr>\n",
       "    <tr>\n",
       "      <th>32</th>\n",
       "      <td>NV</td>\n",
       "      <td>103.0</td>\n",
       "      <td>354.0</td>\n",
       "      <td>457.0</td>\n",
       "      <td>0.225383</td>\n",
       "    </tr>\n",
       "    <tr>\n",
       "      <th>13</th>\n",
       "      <td>ID</td>\n",
       "      <td>1.0</td>\n",
       "      <td>4.0</td>\n",
       "      <td>5.0</td>\n",
       "      <td>0.200000</td>\n",
       "    </tr>\n",
       "    <tr>\n",
       "      <th>40</th>\n",
       "      <td>SD</td>\n",
       "      <td>12.0</td>\n",
       "      <td>50.0</td>\n",
       "      <td>62.0</td>\n",
       "      <td>0.193548</td>\n",
       "    </tr>\n",
       "    <tr>\n",
       "      <th>0</th>\n",
       "      <td>AK</td>\n",
       "      <td>13.0</td>\n",
       "      <td>58.0</td>\n",
       "      <td>71.0</td>\n",
       "      <td>0.183099</td>\n",
       "    </tr>\n",
       "    <tr>\n",
       "      <th>9</th>\n",
       "      <td>FL</td>\n",
       "      <td>485.0</td>\n",
       "      <td>2167.0</td>\n",
       "      <td>2652.0</td>\n",
       "      <td>0.182881</td>\n",
       "    </tr>\n",
       "    <tr>\n",
       "      <th>11</th>\n",
       "      <td>HI</td>\n",
       "      <td>28.0</td>\n",
       "      <td>132.0</td>\n",
       "      <td>160.0</td>\n",
       "      <td>0.175000</td>\n",
       "    </tr>\n",
       "    <tr>\n",
       "      <th>24</th>\n",
       "      <td>MO</td>\n",
       "      <td>111.0</td>\n",
       "      <td>536.0</td>\n",
       "      <td>647.0</td>\n",
       "      <td>0.171561</td>\n",
       "    </tr>\n",
       "    <tr>\n",
       "      <th>31</th>\n",
       "      <td>NM</td>\n",
       "      <td>30.0</td>\n",
       "      <td>147.0</td>\n",
       "      <td>177.0</td>\n",
       "      <td>0.169492</td>\n",
       "    </tr>\n",
       "    <tr>\n",
       "      <th>36</th>\n",
       "      <td>OR</td>\n",
       "      <td>70.0</td>\n",
       "      <td>358.0</td>\n",
       "      <td>428.0</td>\n",
       "      <td>0.163551</td>\n",
       "    </tr>\n",
       "    <tr>\n",
       "      <th>4</th>\n",
       "      <td>CA</td>\n",
       "      <td>1073.0</td>\n",
       "      <td>5488.0</td>\n",
       "      <td>6561.0</td>\n",
       "      <td>0.163542</td>\n",
       "    </tr>\n",
       "    <tr>\n",
       "      <th>20</th>\n",
       "      <td>MD</td>\n",
       "      <td>156.0</td>\n",
       "      <td>810.0</td>\n",
       "      <td>966.0</td>\n",
       "      <td>0.161491</td>\n",
       "    </tr>\n",
       "    <tr>\n",
       "      <th>10</th>\n",
       "      <td>GA</td>\n",
       "      <td>208.0</td>\n",
       "      <td>1080.0</td>\n",
       "      <td>1288.0</td>\n",
       "      <td>0.161491</td>\n",
       "    </tr>\n",
       "    <tr>\n",
       "      <th>30</th>\n",
       "      <td>NJ</td>\n",
       "      <td>269.0</td>\n",
       "      <td>1403.0</td>\n",
       "      <td>1672.0</td>\n",
       "      <td>0.160885</td>\n",
       "    </tr>\n",
       "    <tr>\n",
       "      <th>29</th>\n",
       "      <td>NH</td>\n",
       "      <td>25.0</td>\n",
       "      <td>132.0</td>\n",
       "      <td>157.0</td>\n",
       "      <td>0.159236</td>\n",
       "    </tr>\n",
       "    <tr>\n",
       "      <th>46</th>\n",
       "      <td>WA</td>\n",
       "      <td>124.0</td>\n",
       "      <td>660.0</td>\n",
       "      <td>784.0</td>\n",
       "      <td>0.158163</td>\n",
       "    </tr>\n",
       "    <tr>\n",
       "      <th>27</th>\n",
       "      <td>NC</td>\n",
       "      <td>113.0</td>\n",
       "      <td>606.0</td>\n",
       "      <td>719.0</td>\n",
       "      <td>0.157163</td>\n",
       "    </tr>\n",
       "    <tr>\n",
       "      <th>43</th>\n",
       "      <td>UT</td>\n",
       "      <td>38.0</td>\n",
       "      <td>204.0</td>\n",
       "      <td>242.0</td>\n",
       "      <td>0.157025</td>\n",
       "    </tr>\n",
       "    <tr>\n",
       "      <th>17</th>\n",
       "      <td>KY</td>\n",
       "      <td>45.0</td>\n",
       "      <td>259.0</td>\n",
       "      <td>304.0</td>\n",
       "      <td>0.148026</td>\n",
       "    </tr>\n",
       "    <tr>\n",
       "      <th>22</th>\n",
       "      <td>MI</td>\n",
       "      <td>100.0</td>\n",
       "      <td>582.0</td>\n",
       "      <td>682.0</td>\n",
       "      <td>0.146628</td>\n",
       "    </tr>\n",
       "    <tr>\n",
       "      <th>39</th>\n",
       "      <td>SC</td>\n",
       "      <td>64.0</td>\n",
       "      <td>377.0</td>\n",
       "      <td>441.0</td>\n",
       "      <td>0.145125</td>\n",
       "    </tr>\n",
       "    <tr>\n",
       "      <th>47</th>\n",
       "      <td>WI</td>\n",
       "      <td>61.0</td>\n",
       "      <td>361.0</td>\n",
       "      <td>422.0</td>\n",
       "      <td>0.144550</td>\n",
       "    </tr>\n",
       "    <tr>\n",
       "      <th>3</th>\n",
       "      <td>AZ</td>\n",
       "      <td>117.0</td>\n",
       "      <td>694.0</td>\n",
       "      <td>811.0</td>\n",
       "      <td>0.144266</td>\n",
       "    </tr>\n",
       "    <tr>\n",
       "      <th>35</th>\n",
       "      <td>OK</td>\n",
       "      <td>40.0</td>\n",
       "      <td>241.0</td>\n",
       "      <td>281.0</td>\n",
       "      <td>0.142349</td>\n",
       "    </tr>\n",
       "    <tr>\n",
       "      <th>23</th>\n",
       "      <td>MN</td>\n",
       "      <td>81.0</td>\n",
       "      <td>507.0</td>\n",
       "      <td>588.0</td>\n",
       "      <td>0.137755</td>\n",
       "    </tr>\n",
       "    <tr>\n",
       "      <th>14</th>\n",
       "      <td>IL</td>\n",
       "      <td>192.0</td>\n",
       "      <td>1214.0</td>\n",
       "      <td>1406.0</td>\n",
       "      <td>0.136558</td>\n",
       "    </tr>\n",
       "    <tr>\n",
       "      <th>6</th>\n",
       "      <td>CT</td>\n",
       "      <td>91.0</td>\n",
       "      <td>581.0</td>\n",
       "      <td>672.0</td>\n",
       "      <td>0.135417</td>\n",
       "    </tr>\n",
       "    <tr>\n",
       "      <th>33</th>\n",
       "      <td>NY</td>\n",
       "      <td>468.0</td>\n",
       "      <td>2996.0</td>\n",
       "      <td>3464.0</td>\n",
       "      <td>0.135104</td>\n",
       "    </tr>\n",
       "    <tr>\n",
       "      <th>44</th>\n",
       "      <td>VA</td>\n",
       "      <td>174.0</td>\n",
       "      <td>1135.0</td>\n",
       "      <td>1309.0</td>\n",
       "      <td>0.132926</td>\n",
       "    </tr>\n",
       "    <tr>\n",
       "      <th>26</th>\n",
       "      <td>MT</td>\n",
       "      <td>11.0</td>\n",
       "      <td>72.0</td>\n",
       "      <td>83.0</td>\n",
       "      <td>0.132530</td>\n",
       "    </tr>\n",
       "    <tr>\n",
       "      <th>34</th>\n",
       "      <td>OH</td>\n",
       "      <td>151.0</td>\n",
       "      <td>996.0</td>\n",
       "      <td>1147.0</td>\n",
       "      <td>0.131648</td>\n",
       "    </tr>\n",
       "    <tr>\n",
       "      <th>5</th>\n",
       "      <td>CO</td>\n",
       "      <td>96.0</td>\n",
       "      <td>645.0</td>\n",
       "      <td>741.0</td>\n",
       "      <td>0.129555</td>\n",
       "    </tr>\n",
       "    <tr>\n",
       "      <th>38</th>\n",
       "      <td>RI</td>\n",
       "      <td>24.0</td>\n",
       "      <td>162.0</td>\n",
       "      <td>186.0</td>\n",
       "      <td>0.129032</td>\n",
       "    </tr>\n",
       "    <tr>\n",
       "      <th>18</th>\n",
       "      <td>LA</td>\n",
       "      <td>51.0</td>\n",
       "      <td>350.0</td>\n",
       "      <td>401.0</td>\n",
       "      <td>0.127182</td>\n",
       "    </tr>\n",
       "    <tr>\n",
       "      <th>37</th>\n",
       "      <td>PA</td>\n",
       "      <td>177.0</td>\n",
       "      <td>1245.0</td>\n",
       "      <td>1422.0</td>\n",
       "      <td>0.124473</td>\n",
       "    </tr>\n",
       "    <tr>\n",
       "      <th>48</th>\n",
       "      <td>WV</td>\n",
       "      <td>21.0</td>\n",
       "      <td>148.0</td>\n",
       "      <td>169.0</td>\n",
       "      <td>0.124260</td>\n",
       "    </tr>\n",
       "    <tr>\n",
       "      <th>19</th>\n",
       "      <td>MA</td>\n",
       "      <td>150.0</td>\n",
       "      <td>1059.0</td>\n",
       "      <td>1209.0</td>\n",
       "      <td>0.124069</td>\n",
       "    </tr>\n",
       "    <tr>\n",
       "      <th>1</th>\n",
       "      <td>AL</td>\n",
       "      <td>52.0</td>\n",
       "      <td>371.0</td>\n",
       "      <td>423.0</td>\n",
       "      <td>0.122931</td>\n",
       "    </tr>\n",
       "    <tr>\n",
       "      <th>16</th>\n",
       "      <td>KS</td>\n",
       "      <td>30.0</td>\n",
       "      <td>215.0</td>\n",
       "      <td>245.0</td>\n",
       "      <td>0.122449</td>\n",
       "    </tr>\n",
       "    <tr>\n",
       "      <th>42</th>\n",
       "      <td>TX</td>\n",
       "      <td>295.0</td>\n",
       "      <td>2181.0</td>\n",
       "      <td>2476.0</td>\n",
       "      <td>0.119144</td>\n",
       "    </tr>\n",
       "    <tr>\n",
       "      <th>41</th>\n",
       "      <td>TN</td>\n",
       "      <td>2.0</td>\n",
       "      <td>15.0</td>\n",
       "      <td>17.0</td>\n",
       "      <td>0.117647</td>\n",
       "    </tr>\n",
       "    <tr>\n",
       "      <th>2</th>\n",
       "      <td>AR</td>\n",
       "      <td>26.0</td>\n",
       "      <td>203.0</td>\n",
       "      <td>229.0</td>\n",
       "      <td>0.113537</td>\n",
       "    </tr>\n",
       "    <tr>\n",
       "      <th>45</th>\n",
       "      <td>VT</td>\n",
       "      <td>6.0</td>\n",
       "      <td>47.0</td>\n",
       "      <td>53.0</td>\n",
       "      <td>0.113208</td>\n",
       "    </tr>\n",
       "    <tr>\n",
       "      <th>8</th>\n",
       "      <td>DE</td>\n",
       "      <td>12.0</td>\n",
       "      <td>97.0</td>\n",
       "      <td>109.0</td>\n",
       "      <td>0.110092</td>\n",
       "    </tr>\n",
       "    <tr>\n",
       "      <th>25</th>\n",
       "      <td>MS</td>\n",
       "      <td>2.0</td>\n",
       "      <td>17.0</td>\n",
       "      <td>19.0</td>\n",
       "      <td>0.105263</td>\n",
       "    </tr>\n",
       "    <tr>\n",
       "      <th>7</th>\n",
       "      <td>DC</td>\n",
       "      <td>13.0</td>\n",
       "      <td>182.0</td>\n",
       "      <td>195.0</td>\n",
       "      <td>0.066667</td>\n",
       "    </tr>\n",
       "    <tr>\n",
       "      <th>49</th>\n",
       "      <td>WY</td>\n",
       "      <td>4.0</td>\n",
       "      <td>76.0</td>\n",
       "      <td>80.0</td>\n",
       "      <td>0.050000</td>\n",
       "    </tr>\n",
       "    <tr>\n",
       "      <th>21</th>\n",
       "      <td>ME</td>\n",
       "      <td>0.0</td>\n",
       "      <td>3.0</td>\n",
       "      <td>3.0</td>\n",
       "      <td>0.000000</td>\n",
       "    </tr>\n",
       "    <tr>\n",
       "      <th>15</th>\n",
       "      <td>IN</td>\n",
       "      <td>0.0</td>\n",
       "      <td>9.0</td>\n",
       "      <td>9.0</td>\n",
       "      <td>0.000000</td>\n",
       "    </tr>\n",
       "    <tr>\n",
       "      <th>12</th>\n",
       "      <td>IA</td>\n",
       "      <td>0.0</td>\n",
       "      <td>5.0</td>\n",
       "      <td>5.0</td>\n",
       "      <td>0.000000</td>\n",
       "    </tr>\n",
       "  </tbody>\n",
       "</table>\n",
       "</div>"
      ],
      "text/plain": [
       "loan_status addr_state  Charged Off  Fully Paid   Total  Chargedoff_Proportion\n",
       "28                  NE          3.0         2.0     5.0               0.600000\n",
       "32                  NV        103.0       354.0   457.0               0.225383\n",
       "13                  ID          1.0         4.0     5.0               0.200000\n",
       "40                  SD         12.0        50.0    62.0               0.193548\n",
       "0                   AK         13.0        58.0    71.0               0.183099\n",
       "9                   FL        485.0      2167.0  2652.0               0.182881\n",
       "11                  HI         28.0       132.0   160.0               0.175000\n",
       "24                  MO        111.0       536.0   647.0               0.171561\n",
       "31                  NM         30.0       147.0   177.0               0.169492\n",
       "36                  OR         70.0       358.0   428.0               0.163551\n",
       "4                   CA       1073.0      5488.0  6561.0               0.163542\n",
       "20                  MD        156.0       810.0   966.0               0.161491\n",
       "10                  GA        208.0      1080.0  1288.0               0.161491\n",
       "30                  NJ        269.0      1403.0  1672.0               0.160885\n",
       "29                  NH         25.0       132.0   157.0               0.159236\n",
       "46                  WA        124.0       660.0   784.0               0.158163\n",
       "27                  NC        113.0       606.0   719.0               0.157163\n",
       "43                  UT         38.0       204.0   242.0               0.157025\n",
       "17                  KY         45.0       259.0   304.0               0.148026\n",
       "22                  MI        100.0       582.0   682.0               0.146628\n",
       "39                  SC         64.0       377.0   441.0               0.145125\n",
       "47                  WI         61.0       361.0   422.0               0.144550\n",
       "3                   AZ        117.0       694.0   811.0               0.144266\n",
       "35                  OK         40.0       241.0   281.0               0.142349\n",
       "23                  MN         81.0       507.0   588.0               0.137755\n",
       "14                  IL        192.0      1214.0  1406.0               0.136558\n",
       "6                   CT         91.0       581.0   672.0               0.135417\n",
       "33                  NY        468.0      2996.0  3464.0               0.135104\n",
       "44                  VA        174.0      1135.0  1309.0               0.132926\n",
       "26                  MT         11.0        72.0    83.0               0.132530\n",
       "34                  OH        151.0       996.0  1147.0               0.131648\n",
       "5                   CO         96.0       645.0   741.0               0.129555\n",
       "38                  RI         24.0       162.0   186.0               0.129032\n",
       "18                  LA         51.0       350.0   401.0               0.127182\n",
       "37                  PA        177.0      1245.0  1422.0               0.124473\n",
       "48                  WV         21.0       148.0   169.0               0.124260\n",
       "19                  MA        150.0      1059.0  1209.0               0.124069\n",
       "1                   AL         52.0       371.0   423.0               0.122931\n",
       "16                  KS         30.0       215.0   245.0               0.122449\n",
       "42                  TX        295.0      2181.0  2476.0               0.119144\n",
       "41                  TN          2.0        15.0    17.0               0.117647\n",
       "2                   AR         26.0       203.0   229.0               0.113537\n",
       "45                  VT          6.0        47.0    53.0               0.113208\n",
       "8                   DE         12.0        97.0   109.0               0.110092\n",
       "25                  MS          2.0        17.0    19.0               0.105263\n",
       "7                   DC         13.0       182.0   195.0               0.066667\n",
       "49                  WY          4.0        76.0    80.0               0.050000\n",
       "21                  ME          0.0         3.0     3.0               0.000000\n",
       "15                  IN          0.0         9.0     9.0               0.000000\n",
       "12                  IA          0.0         5.0     5.0               0.000000"
      ]
     },
     "execution_count": 998,
     "metadata": {},
     "output_type": "execute_result"
    }
   ],
   "source": [
    "state_vs_loan = loan_data.groupby(['addr_state', 'loan_status']).loan_status.count().unstack().fillna(0).reset_index()\n",
    "state_vs_loan['Total'] = state_vs_loan['Charged Off'] + state_vs_loan['Fully Paid'] \n",
    "state_vs_loan['Chargedoff_Proportion'] = state_vs_loan['Charged Off'] / state_vs_loan['Total']\n",
    "state_vs_loan.sort_values('Chargedoff_Proportion', ascending=False)"
   ]
  },
  {
   "cell_type": "code",
   "execution_count": 999,
   "id": "688abec4",
   "metadata": {
    "scrolled": true
   },
   "outputs": [
    {
     "data": {
      "image/png": "[encoded data removed]",
      "text/plain": [
       "<Figure size 1152x432 with 1 Axes>"
      ]
     },
     "metadata": {},
     "output_type": "display_data"
    }
   ],
   "source": [
    "fig, ax1 = plt.subplots(figsize=(16, 6),facecolor='g')\n",
    "\n",
    "ax1.set_title('Address State vs Chargedoff Proportion',fontsize=15,color='w')\n",
    "\n",
    "ax1=sns.barplot(x='addr_state', y='Chargedoff_Proportion', data=state_vs_loan)\n",
    "\n",
    "ax1.set_xlabel('Address State',fontsize=14,color='w')\n",
    "ax1.set_ylabel('Chargedoff Proportion',fontsize=14,color = 'w')\n",
    "\n",
    "plt.show()"
   ]
  },
  {
   "cell_type": "markdown",
   "id": "31c790a4",
   "metadata": {},
   "source": [
    "### Observation:\n",
    "1.State 'NE' is showing high chances of default"
   ]
  },
  {
   "cell_type": "markdown",
   "id": "2f17e1a6",
   "metadata": {},
   "source": [
    "### h) Verification status vs charged_off_proportion"
   ]
  },
  {
   "cell_type": "code",
   "execution_count": 1000,
   "id": "d0959adb",
   "metadata": {},
   "outputs": [
    {
     "data": {
      "text/html": [
       "<div>\n",
       "<style scoped>\n",
       "    .dataframe tbody tr th:only-of-type {\n",
       "        vertical-align: middle;\n",
       "    }\n",
       "\n",
       "    .dataframe tbody tr th {\n",
       "        vertical-align: top;\n",
       "    }\n",
       "\n",
       "    .dataframe thead th {\n",
       "        text-align: right;\n",
       "    }\n",
       "</style>\n",
       "<table border=\"1\" class=\"dataframe\">\n",
       "  <thead>\n",
       "    <tr style=\"text-align: right;\">\n",
       "      <th>loan_status</th>\n",
       "      <th>verification_status</th>\n",
       "      <th>Charged Off</th>\n",
       "      <th>Fully Paid</th>\n",
       "      <th>Total</th>\n",
       "      <th>Chargedoff_Proportion</th>\n",
       "    </tr>\n",
       "  </thead>\n",
       "  <tbody>\n",
       "    <tr>\n",
       "      <th>2</th>\n",
       "      <td>Verified</td>\n",
       "      <td>1949</td>\n",
       "      <td>9270</td>\n",
       "      <td>11219</td>\n",
       "      <td>0.173723</td>\n",
       "    </tr>\n",
       "    <tr>\n",
       "      <th>1</th>\n",
       "      <td>Source Verified</td>\n",
       "      <td>1373</td>\n",
       "      <td>7782</td>\n",
       "      <td>9155</td>\n",
       "      <td>0.149973</td>\n",
       "    </tr>\n",
       "    <tr>\n",
       "      <th>0</th>\n",
       "      <td>Not Verified</td>\n",
       "      <td>2096</td>\n",
       "      <td>14184</td>\n",
       "      <td>16280</td>\n",
       "      <td>0.128747</td>\n",
       "    </tr>\n",
       "  </tbody>\n",
       "</table>\n",
       "</div>"
      ],
      "text/plain": [
       "loan_status verification_status  Charged Off  Fully Paid  Total  \\\n",
       "2                      Verified         1949        9270  11219   \n",
       "1               Source Verified         1373        7782   9155   \n",
       "0                  Not Verified         2096       14184  16280   \n",
       "\n",
       "loan_status  Chargedoff_Proportion  \n",
       "2                         0.173723  \n",
       "1                         0.149973  \n",
       "0                         0.128747  "
      ]
     },
     "execution_count": 1000,
     "metadata": {},
     "output_type": "execute_result"
    }
   ],
   "source": [
    "verfy_vs_loan = loan_data.groupby(['verification_status', 'loan_status']).loan_status.count().unstack().fillna(0).reset_index()\n",
    "verfy_vs_loan['Total'] = verfy_vs_loan['Charged Off'] + verfy_vs_loan['Fully Paid'] \n",
    "verfy_vs_loan['Chargedoff_Proportion'] = verfy_vs_loan['Charged Off'] / verfy_vs_loan['Total']\n",
    "verfy_vs_loan.sort_values('Chargedoff_Proportion', ascending=False)"
   ]
  },
  {
   "cell_type": "code",
   "execution_count": 1001,
   "id": "1d62d890",
   "metadata": {
    "scrolled": true
   },
   "outputs": [
    {
     "data": {
      "image/png": "[encoded data removed]",
      "text/plain": [
       "<Figure size 864x576 with 1 Axes>"
      ]
     },
     "metadata": {},
     "output_type": "display_data"
    }
   ],
   "source": [
    "fig, ax1 = plt.subplots(figsize=(12, 8),facecolor='g')\n",
    "ax1.set_title('Verification Status vs Chargedoff Proportion',fontsize=15,color='w')\n",
    "ax1=sns.barplot(x='verification_status', y='Chargedoff_Proportion', data=verfy_vs_loan)\n",
    "ax1.set_xlabel('Verification Status',fontsize=14,color='w')\n",
    "ax1.set_ylabel('Chargedoff Proportion',fontsize=14,color = 'w')\n",
    "plt.show()"
   ]
  },
  {
   "cell_type": "markdown",
   "id": "67137ee5",
   "metadata": {},
   "source": [
    "### Observation:\n",
    "1. The differnce in charged off proportion is very less\n",
    "2. This variable doesn't provide a significant difference in making a decision"
   ]
  },
  {
   "cell_type": "markdown",
   "id": "ce6e8fd8",
   "metadata": {},
   "source": [
    "### i) Term of loan vs Interest rate"
   ]
  },
  {
   "cell_type": "code",
   "execution_count": 1002,
   "id": "82ec843e",
   "metadata": {},
   "outputs": [
    {
     "data": {
      "image/png": "[encoded data removed]",
      "text/plain": [
       "<Figure size 720x432 with 1 Axes>"
      ]
     },
     "metadata": {},
     "output_type": "display_data"
    }
   ],
   "source": [
    "plt.figure(figsize=(10,6),facecolor='g')\n",
    "ax = sns.boxplot(y='int_rate', x='term', data =loan_data,palette='rainbow')\n",
    "\n",
    "ax.set_title('Term of loan vs Interest Rate',fontsize=15,color='w')\n",
    "\n",
    "ax.set_ylabel('Interest Rate',fontsize=14,color = 'w')\n",
    "ax.set_xlabel('Term of loan',fontsize=14,color = 'w')\n",
    "\n",
    "plt.show()"
   ]
  },
  {
   "cell_type": "markdown",
   "id": "774df4e9",
   "metadata": {},
   "source": [
    "### Observation:\n",
    "1. Average interest rate is higher for 60 months\n",
    "2. Most of the loans issued for longer term had higher interest rates for repayment."
   ]
  },
  {
   "cell_type": "markdown",
   "id": "c4d8014f",
   "metadata": {},
   "source": [
    "### j) Grade vs Interest rate"
   ]
  },
  {
   "cell_type": "code",
   "execution_count": 1003,
   "id": "85a95c4d",
   "metadata": {},
   "outputs": [
    {
     "data": {
      "image/png": "[encoded data removed]",
      "text/plain": [
       "<Figure size 1008x576 with 1 Axes>"
      ]
     },
     "metadata": {},
     "output_type": "display_data"
    }
   ],
   "source": [
    "plt.figure(figsize=(14,8),facecolor='g')\n",
    "\n",
    "ax = sns.boxplot(y='int_rate', x='grade', data =loan_data, palette='rainbow',order = 'ABCDEFG')\n",
    "\n",
    "ax.set_title('Grade vs Interest Rate',fontsize=15,color='w')\n",
    "\n",
    "ax.set_ylabel('Interest Rate',fontsize=14,color = 'w')\n",
    "ax.set_xlabel('Grade',fontsize=14,color = 'w')\n",
    "\n",
    "plt.show()"
   ]
  },
  {
   "cell_type": "markdown",
   "id": "a1600b17",
   "metadata": {},
   "source": [
    "### Observation:\n",
    "1. Higher the grade lower the interest rate\n",
    "2. Interest rate is increasing with grades"
   ]
  },
  {
   "cell_type": "markdown",
   "id": "1d1e7898",
   "metadata": {},
   "source": [
    "### k) year vs Interest rate"
   ]
  },
  {
   "cell_type": "code",
   "execution_count": 1004,
   "id": "ad3966eb",
   "metadata": {},
   "outputs": [
    {
     "data": {
      "image/png": "[encoded data removed]",
      "text/plain": [
       "<Figure size 1008x576 with 1 Axes>"
      ]
     },
     "metadata": {},
     "output_type": "display_data"
    }
   ],
   "source": [
    "plt.figure(figsize=(14,8),facecolor='g')\n",
    "\n",
    "ax = sns.boxplot(y='int_rate', x='year', data =loan_data,palette='rainbow')\n",
    "\n",
    "ax.set_title('Year vs Interest Rate',fontsize=15,color='w')\n",
    "\n",
    "ax.set_ylabel('Interest Rate',fontsize=14,color = 'w')\n",
    "ax.set_xlabel('Year',fontsize=14,color = 'w')\n",
    "\n",
    "plt.show()"
   ]
  },
  {
   "cell_type": "markdown",
   "id": "850e7c5e",
   "metadata": {},
   "source": [
    "### Observation:\n",
    "1. Interest rate is increasing slowly with increase in year."
   ]
  }
 ],
 "metadata": {
  "kernelspec": {
   "display_name": "Python 3 (ipykernel)",
   "language": "python",
   "name": "python3"
  },
  "language_info": {
   "codemirror_mode": {
    "name": "ipython",
    "version": 3
   },
   "file_extension": ".py",
   "mimetype": "text/x-python",
   "name": "python",
   "nbconvert_exporter": "python",
   "pygments_lexer": "ipython3",
   "version": "3.9.7"
  }
 },
 "nbformat": 4,
 "nbformat_minor": 5
}
